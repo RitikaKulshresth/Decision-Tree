{
 "cells": [
  {
   "cell_type": "code",
   "execution_count": 1,
   "id": "2ff590c6",
   "metadata": {},
   "outputs": [
    {
     "data": {
      "text/plain": [
       "'C:\\\\Users\\\\Lenovo\\\\Desktop\\\\27th Nov - Stats and ML Batch\\\\DecisionTree'"
      ]
     },
     "execution_count": 1,
     "metadata": {},
     "output_type": "execute_result"
    }
   ],
   "source": [
    "import os\n",
    "os.getcwd()"
   ]
  },
  {
   "cell_type": "code",
   "execution_count": 2,
   "id": "1ebd67b9",
   "metadata": {},
   "outputs": [],
   "source": [
    "import numpy as np\n",
    "import pandas as pd\n",
    "import matplotlib.pyplot as plt\n",
    "import seaborn as sns\n",
    "sns.set()\n",
    "%matplotlib inline\n",
    "import warnings\n",
    "warnings.filterwarnings(\"ignore\")"
   ]
  },
  {
   "cell_type": "code",
   "execution_count": 3,
   "id": "f12a91e1",
   "metadata": {},
   "outputs": [
    {
     "data": {
      "text/html": [
       "<div>\n",
       "<style scoped>\n",
       "    .dataframe tbody tr th:only-of-type {\n",
       "        vertical-align: middle;\n",
       "    }\n",
       "\n",
       "    .dataframe tbody tr th {\n",
       "        vertical-align: top;\n",
       "    }\n",
       "\n",
       "    .dataframe thead th {\n",
       "        text-align: right;\n",
       "    }\n",
       "</style>\n",
       "<table border=\"1\" class=\"dataframe\">\n",
       "  <thead>\n",
       "    <tr style=\"text-align: right;\">\n",
       "      <th></th>\n",
       "      <th>R&amp;D Spend</th>\n",
       "      <th>Administration</th>\n",
       "      <th>Marketing Spend</th>\n",
       "      <th>State</th>\n",
       "      <th>Profit</th>\n",
       "    </tr>\n",
       "  </thead>\n",
       "  <tbody>\n",
       "    <tr>\n",
       "      <th>0</th>\n",
       "      <td>165349.20</td>\n",
       "      <td>136897.80</td>\n",
       "      <td>471784.10</td>\n",
       "      <td>New York</td>\n",
       "      <td>192261.83</td>\n",
       "    </tr>\n",
       "    <tr>\n",
       "      <th>1</th>\n",
       "      <td>162597.70</td>\n",
       "      <td>151377.59</td>\n",
       "      <td>443898.53</td>\n",
       "      <td>California</td>\n",
       "      <td>191792.06</td>\n",
       "    </tr>\n",
       "    <tr>\n",
       "      <th>2</th>\n",
       "      <td>153441.51</td>\n",
       "      <td>101145.55</td>\n",
       "      <td>407934.54</td>\n",
       "      <td>Florida</td>\n",
       "      <td>191050.39</td>\n",
       "    </tr>\n",
       "    <tr>\n",
       "      <th>3</th>\n",
       "      <td>144372.41</td>\n",
       "      <td>118671.85</td>\n",
       "      <td>383199.62</td>\n",
       "      <td>New York</td>\n",
       "      <td>182901.99</td>\n",
       "    </tr>\n",
       "    <tr>\n",
       "      <th>4</th>\n",
       "      <td>142107.34</td>\n",
       "      <td>91391.77</td>\n",
       "      <td>366168.42</td>\n",
       "      <td>Florida</td>\n",
       "      <td>166187.94</td>\n",
       "    </tr>\n",
       "  </tbody>\n",
       "</table>\n",
       "</div>"
      ],
      "text/plain": [
       "   R&D Spend  Administration  Marketing Spend       State     Profit\n",
       "0  165349.20       136897.80        471784.10    New York  192261.83\n",
       "1  162597.70       151377.59        443898.53  California  191792.06\n",
       "2  153441.51       101145.55        407934.54     Florida  191050.39\n",
       "3  144372.41       118671.85        383199.62    New York  182901.99\n",
       "4  142107.34        91391.77        366168.42     Florida  166187.94"
      ]
     },
     "execution_count": 3,
     "metadata": {},
     "output_type": "execute_result"
    }
   ],
   "source": [
    "dataset = pd.read_csv('50_Startups.csv')\n",
    "dataset.head()"
   ]
  },
  {
   "cell_type": "code",
   "execution_count": null,
   "id": "74c5df46",
   "metadata": {},
   "outputs": [],
   "source": [
    "# Data Preprocessing\n",
    "### 1) Handling missing value\n",
    "### 2) Handling outlier - Outlier only required when we have large tree to avoid overfitting\n",
    "### 3) Encoding - in tree based model, always use label encoder method\n",
    "### 4) Feature Scaling - please note, there is no need to do feature scaling in DT"
   ]
  },
  {
   "cell_type": "code",
   "execution_count": 4,
   "id": "2e7794a4",
   "metadata": {},
   "outputs": [
    {
     "data": {
      "text/plain": [
       "R&D Spend          0\n",
       "Administration     0\n",
       "Marketing Spend    0\n",
       "State              0\n",
       "Profit             0\n",
       "dtype: int64"
      ]
     },
     "execution_count": 4,
     "metadata": {},
     "output_type": "execute_result"
    }
   ],
   "source": [
    "dataset.isnull().sum()"
   ]
  },
  {
   "cell_type": "code",
   "execution_count": 5,
   "id": "8cc5ed1b",
   "metadata": {},
   "outputs": [
    {
     "name": "stdout",
     "output_type": "stream",
     "text": [
      "<class 'pandas.core.frame.DataFrame'>\n",
      "RangeIndex: 50 entries, 0 to 49\n",
      "Data columns (total 5 columns):\n",
      " #   Column           Non-Null Count  Dtype  \n",
      "---  ------           --------------  -----  \n",
      " 0   R&D Spend        50 non-null     float64\n",
      " 1   Administration   50 non-null     float64\n",
      " 2   Marketing Spend  50 non-null     float64\n",
      " 3   State            50 non-null     object \n",
      " 4   Profit           50 non-null     float64\n",
      "dtypes: float64(4), object(1)\n",
      "memory usage: 2.1+ KB\n"
     ]
    }
   ],
   "source": [
    "dataset.info()"
   ]
  },
  {
   "cell_type": "code",
   "execution_count": 6,
   "id": "a17554a3",
   "metadata": {},
   "outputs": [
    {
     "data": {
      "text/html": [
       "<div>\n",
       "<style scoped>\n",
       "    .dataframe tbody tr th:only-of-type {\n",
       "        vertical-align: middle;\n",
       "    }\n",
       "\n",
       "    .dataframe tbody tr th {\n",
       "        vertical-align: top;\n",
       "    }\n",
       "\n",
       "    .dataframe thead th {\n",
       "        text-align: right;\n",
       "    }\n",
       "</style>\n",
       "<table border=\"1\" class=\"dataframe\">\n",
       "  <thead>\n",
       "    <tr style=\"text-align: right;\">\n",
       "      <th></th>\n",
       "      <th>R&amp;D Spend</th>\n",
       "      <th>Administration</th>\n",
       "      <th>Marketing Spend</th>\n",
       "      <th>State</th>\n",
       "      <th>Profit</th>\n",
       "    </tr>\n",
       "  </thead>\n",
       "  <tbody>\n",
       "    <tr>\n",
       "      <th>0</th>\n",
       "      <td>165349.20</td>\n",
       "      <td>136897.80</td>\n",
       "      <td>471784.10</td>\n",
       "      <td>2</td>\n",
       "      <td>192261.83</td>\n",
       "    </tr>\n",
       "    <tr>\n",
       "      <th>1</th>\n",
       "      <td>162597.70</td>\n",
       "      <td>151377.59</td>\n",
       "      <td>443898.53</td>\n",
       "      <td>0</td>\n",
       "      <td>191792.06</td>\n",
       "    </tr>\n",
       "    <tr>\n",
       "      <th>2</th>\n",
       "      <td>153441.51</td>\n",
       "      <td>101145.55</td>\n",
       "      <td>407934.54</td>\n",
       "      <td>1</td>\n",
       "      <td>191050.39</td>\n",
       "    </tr>\n",
       "    <tr>\n",
       "      <th>3</th>\n",
       "      <td>144372.41</td>\n",
       "      <td>118671.85</td>\n",
       "      <td>383199.62</td>\n",
       "      <td>2</td>\n",
       "      <td>182901.99</td>\n",
       "    </tr>\n",
       "    <tr>\n",
       "      <th>4</th>\n",
       "      <td>142107.34</td>\n",
       "      <td>91391.77</td>\n",
       "      <td>366168.42</td>\n",
       "      <td>1</td>\n",
       "      <td>166187.94</td>\n",
       "    </tr>\n",
       "  </tbody>\n",
       "</table>\n",
       "</div>"
      ],
      "text/plain": [
       "   R&D Spend  Administration  Marketing Spend  State     Profit\n",
       "0  165349.20       136897.80        471784.10      2  192261.83\n",
       "1  162597.70       151377.59        443898.53      0  191792.06\n",
       "2  153441.51       101145.55        407934.54      1  191050.39\n",
       "3  144372.41       118671.85        383199.62      2  182901.99\n",
       "4  142107.34        91391.77        366168.42      1  166187.94"
      ]
     },
     "execution_count": 6,
     "metadata": {},
     "output_type": "execute_result"
    }
   ],
   "source": [
    "dataset['State'] = dataset['State'].astype('category')\n",
    "dataset['State'] = dataset['State'].cat.codes\n",
    "dataset.head()"
   ]
  },
  {
   "cell_type": "code",
   "execution_count": 7,
   "id": "a6d34afb",
   "metadata": {},
   "outputs": [],
   "source": [
    "# split the data into ind and dep variable\n",
    "x = dataset.iloc[:,0:-1]\n",
    "y = dataset[['Profit']]"
   ]
  },
  {
   "cell_type": "code",
   "execution_count": 8,
   "id": "0467f7ea",
   "metadata": {},
   "outputs": [
    {
     "data": {
      "text/html": [
       "<div>\n",
       "<style scoped>\n",
       "    .dataframe tbody tr th:only-of-type {\n",
       "        vertical-align: middle;\n",
       "    }\n",
       "\n",
       "    .dataframe tbody tr th {\n",
       "        vertical-align: top;\n",
       "    }\n",
       "\n",
       "    .dataframe thead th {\n",
       "        text-align: right;\n",
       "    }\n",
       "</style>\n",
       "<table border=\"1\" class=\"dataframe\">\n",
       "  <thead>\n",
       "    <tr style=\"text-align: right;\">\n",
       "      <th></th>\n",
       "      <th>R&amp;D Spend</th>\n",
       "      <th>Administration</th>\n",
       "      <th>Marketing Spend</th>\n",
       "      <th>State</th>\n",
       "    </tr>\n",
       "  </thead>\n",
       "  <tbody>\n",
       "    <tr>\n",
       "      <th>0</th>\n",
       "      <td>165349.20</td>\n",
       "      <td>136897.80</td>\n",
       "      <td>471784.10</td>\n",
       "      <td>2</td>\n",
       "    </tr>\n",
       "    <tr>\n",
       "      <th>1</th>\n",
       "      <td>162597.70</td>\n",
       "      <td>151377.59</td>\n",
       "      <td>443898.53</td>\n",
       "      <td>0</td>\n",
       "    </tr>\n",
       "    <tr>\n",
       "      <th>2</th>\n",
       "      <td>153441.51</td>\n",
       "      <td>101145.55</td>\n",
       "      <td>407934.54</td>\n",
       "      <td>1</td>\n",
       "    </tr>\n",
       "    <tr>\n",
       "      <th>3</th>\n",
       "      <td>144372.41</td>\n",
       "      <td>118671.85</td>\n",
       "      <td>383199.62</td>\n",
       "      <td>2</td>\n",
       "    </tr>\n",
       "    <tr>\n",
       "      <th>4</th>\n",
       "      <td>142107.34</td>\n",
       "      <td>91391.77</td>\n",
       "      <td>366168.42</td>\n",
       "      <td>1</td>\n",
       "    </tr>\n",
       "  </tbody>\n",
       "</table>\n",
       "</div>"
      ],
      "text/plain": [
       "   R&D Spend  Administration  Marketing Spend  State\n",
       "0  165349.20       136897.80        471784.10      2\n",
       "1  162597.70       151377.59        443898.53      0\n",
       "2  153441.51       101145.55        407934.54      1\n",
       "3  144372.41       118671.85        383199.62      2\n",
       "4  142107.34        91391.77        366168.42      1"
      ]
     },
     "execution_count": 8,
     "metadata": {},
     "output_type": "execute_result"
    }
   ],
   "source": [
    "x.head()"
   ]
  },
  {
   "cell_type": "code",
   "execution_count": 9,
   "id": "a9f3d717",
   "metadata": {},
   "outputs": [
    {
     "data": {
      "text/html": [
       "<div>\n",
       "<style scoped>\n",
       "    .dataframe tbody tr th:only-of-type {\n",
       "        vertical-align: middle;\n",
       "    }\n",
       "\n",
       "    .dataframe tbody tr th {\n",
       "        vertical-align: top;\n",
       "    }\n",
       "\n",
       "    .dataframe thead th {\n",
       "        text-align: right;\n",
       "    }\n",
       "</style>\n",
       "<table border=\"1\" class=\"dataframe\">\n",
       "  <thead>\n",
       "    <tr style=\"text-align: right;\">\n",
       "      <th></th>\n",
       "      <th>Profit</th>\n",
       "    </tr>\n",
       "  </thead>\n",
       "  <tbody>\n",
       "    <tr>\n",
       "      <th>0</th>\n",
       "      <td>192261.83</td>\n",
       "    </tr>\n",
       "    <tr>\n",
       "      <th>1</th>\n",
       "      <td>191792.06</td>\n",
       "    </tr>\n",
       "    <tr>\n",
       "      <th>2</th>\n",
       "      <td>191050.39</td>\n",
       "    </tr>\n",
       "    <tr>\n",
       "      <th>3</th>\n",
       "      <td>182901.99</td>\n",
       "    </tr>\n",
       "    <tr>\n",
       "      <th>4</th>\n",
       "      <td>166187.94</td>\n",
       "    </tr>\n",
       "  </tbody>\n",
       "</table>\n",
       "</div>"
      ],
      "text/plain": [
       "      Profit\n",
       "0  192261.83\n",
       "1  191792.06\n",
       "2  191050.39\n",
       "3  182901.99\n",
       "4  166187.94"
      ]
     },
     "execution_count": 9,
     "metadata": {},
     "output_type": "execute_result"
    }
   ],
   "source": [
    "y.head()"
   ]
  },
  {
   "cell_type": "code",
   "execution_count": 10,
   "id": "82a152e9",
   "metadata": {},
   "outputs": [],
   "source": [
    "# splitting the data into training and test\n",
    "from sklearn.model_selection import train_test_split\n",
    "x_train, x_test, y_train, y_test = train_test_split(x, y, test_size=0.25, random_state=1)"
   ]
  },
  {
   "cell_type": "markdown",
   "id": "fcac9a52",
   "metadata": {},
   "source": [
    "# Building DecisionTree Regressor Model"
   ]
  },
  {
   "cell_type": "code",
   "execution_count": 12,
   "id": "947dfd76",
   "metadata": {},
   "outputs": [
    {
     "data": {
      "text/plain": [
       "DecisionTreeRegressor()"
      ]
     },
     "execution_count": 12,
     "metadata": {},
     "output_type": "execute_result"
    }
   ],
   "source": [
    "from sklearn.tree import DecisionTreeRegressor\n",
    "dtregressor = DecisionTreeRegressor()\n",
    "dtregressor.fit(x_train, y_train)"
   ]
  },
  {
   "cell_type": "code",
   "execution_count": 13,
   "id": "738a8be2",
   "metadata": {},
   "outputs": [],
   "source": [
    "# Predict test data with dtregressor model\n",
    "y_pred_train = dtregressor.predict(x_train)\n",
    "y_pred_test = dtregressor.predict(x_test)"
   ]
  },
  {
   "cell_type": "code",
   "execution_count": 14,
   "id": "ce0d0210",
   "metadata": {},
   "outputs": [],
   "source": [
    "# Evaluate your model\n",
    "from sklearn.metrics import r2_score"
   ]
  },
  {
   "cell_type": "code",
   "execution_count": 15,
   "id": "6fc28721",
   "metadata": {},
   "outputs": [
    {
     "name": "stdout",
     "output_type": "stream",
     "text": [
      "Training Accuracy : 1.0\n",
      "\n",
      "Test Accuracy : 0.8970521770191967\n"
     ]
    }
   ],
   "source": [
    "print(\"Training Accuracy :\", r2_score(y_train, y_pred_train))\n",
    "print()\n",
    "print(\"Test Accuracy :\", r2_score(y_test, y_pred_test))"
   ]
  },
  {
   "cell_type": "code",
   "execution_count": 17,
   "id": "7c6f448a",
   "metadata": {},
   "outputs": [
    {
     "name": "stdout",
     "output_type": "stream",
     "text": [
      "[  0.39348771   0.82744575   0.66091195   0.86940966   0.97439774\n",
      "   0.26438253   0.92982412   0.2642215  -21.22435468   0.92614543]\n"
     ]
    }
   ],
   "source": [
    "# Using cross validation method (K-Fold Mothod)\n",
    "from sklearn.model_selection import cross_val_score\n",
    "Trainging_accuracy = cross_val_score(dtregressor, x_train, y_train, cv=10)\n",
    "print(Trainging_accuracy)"
   ]
  },
  {
   "cell_type": "code",
   "execution_count": 18,
   "id": "0017ab1e",
   "metadata": {},
   "outputs": [
    {
     "data": {
      "text/plain": [
       "-1.5114128273464837"
      ]
     },
     "execution_count": 18,
     "metadata": {},
     "output_type": "execute_result"
    }
   ],
   "source": [
    "Trainging_accuracy.mean()"
   ]
  },
  {
   "cell_type": "markdown",
   "id": "a4c3943b",
   "metadata": {},
   "source": [
    "# Linear Regression Model"
   ]
  },
  {
   "cell_type": "code",
   "execution_count": 19,
   "id": "79329222",
   "metadata": {},
   "outputs": [
    {
     "data": {
      "text/plain": [
       "LinearRegression()"
      ]
     },
     "execution_count": 19,
     "metadata": {},
     "output_type": "execute_result"
    }
   ],
   "source": [
    "from sklearn.linear_model import LinearRegression\n",
    "linear = LinearRegression()\n",
    "linear.fit(x_train, y_train)"
   ]
  },
  {
   "cell_type": "code",
   "execution_count": 20,
   "id": "67220917",
   "metadata": {},
   "outputs": [],
   "source": [
    "# Predict test data with linear model\n",
    "y_pred_train_lr = linear.predict(x_train)\n",
    "y_pred_test_lr = linear.predict(x_test)"
   ]
  },
  {
   "cell_type": "code",
   "execution_count": 21,
   "id": "e3cc7926",
   "metadata": {},
   "outputs": [
    {
     "name": "stdout",
     "output_type": "stream",
     "text": [
      "Training Accuracy : 0.9419507593691141\n",
      "\n",
      "Test Accuracy : 0.9616053937220065\n"
     ]
    }
   ],
   "source": [
    "print(\"Training Accuracy :\", r2_score(y_train, y_pred_train_lr))\n",
    "print()\n",
    "print(\"Test Accuracy :\", r2_score(y_test, y_pred_test_lr))"
   ]
  },
  {
   "cell_type": "markdown",
   "id": "6ef3eb90",
   "metadata": {},
   "source": [
    "# RandomForestRegressor Model"
   ]
  },
  {
   "cell_type": "code",
   "execution_count": 25,
   "id": "5e798dea",
   "metadata": {},
   "outputs": [
    {
     "data": {
      "text/plain": [
       "RandomForestRegressor(n_estimators=500)"
      ]
     },
     "execution_count": 25,
     "metadata": {},
     "output_type": "execute_result"
    }
   ],
   "source": [
    "from sklearn.ensemble import RandomForestRegressor\n",
    "rf_regressor = RandomForestRegressor(n_estimators=500)\n",
    "rf_regressor.fit(x_train, y_train)"
   ]
  },
  {
   "cell_type": "code",
   "execution_count": 26,
   "id": "0afd9422",
   "metadata": {},
   "outputs": [],
   "source": [
    "# Predict test data with linear model\n",
    "y_pred_train_rf = rf_regressor.predict(x_train)\n",
    "y_pred_test_rf = rf_regressor.predict(x_test)"
   ]
  },
  {
   "cell_type": "code",
   "execution_count": 27,
   "id": "483d1c7c",
   "metadata": {},
   "outputs": [
    {
     "name": "stdout",
     "output_type": "stream",
     "text": [
      "Training Accuracy : 0.9850932080652272\n",
      "\n",
      "Test Accuracy : 0.9391016814865277\n"
     ]
    }
   ],
   "source": [
    "print(\"Training Accuracy :\", r2_score(y_train, y_pred_train_rf))\n",
    "print()\n",
    "print(\"Test Accuracy :\", r2_score(y_test, y_pred_test_rf))"
   ]
  },
  {
   "cell_type": "code",
   "execution_count": null,
   "id": "581958bf",
   "metadata": {},
   "outputs": [],
   "source": []
  },
  {
   "cell_type": "markdown",
   "id": "6ff551b9",
   "metadata": {},
   "source": [
    "# Classification Problem"
   ]
  },
  {
   "cell_type": "code",
   "execution_count": 28,
   "id": "3e7354eb",
   "metadata": {},
   "outputs": [],
   "source": [
    "import numpy as np\n",
    "import pandas as pd\n",
    "import matplotlib.pyplot as plt\n",
    "import seaborn as sns\n",
    "sns.set()\n",
    "%matplotlib inline\n",
    "import warnings\n",
    "warnings.filterwarnings(\"ignore\")"
   ]
  },
  {
   "cell_type": "code",
   "execution_count": 29,
   "id": "05032186",
   "metadata": {},
   "outputs": [
    {
     "data": {
      "text/html": [
       "<div>\n",
       "<style scoped>\n",
       "    .dataframe tbody tr th:only-of-type {\n",
       "        vertical-align: middle;\n",
       "    }\n",
       "\n",
       "    .dataframe tbody tr th {\n",
       "        vertical-align: top;\n",
       "    }\n",
       "\n",
       "    .dataframe thead th {\n",
       "        text-align: right;\n",
       "    }\n",
       "</style>\n",
       "<table border=\"1\" class=\"dataframe\">\n",
       "  <thead>\n",
       "    <tr style=\"text-align: right;\">\n",
       "      <th></th>\n",
       "      <th>studyName</th>\n",
       "      <th>Sample Number</th>\n",
       "      <th>Species</th>\n",
       "      <th>Region</th>\n",
       "      <th>Island</th>\n",
       "      <th>Stage</th>\n",
       "      <th>Individual ID</th>\n",
       "      <th>Clutch Completion</th>\n",
       "      <th>Date Egg</th>\n",
       "      <th>Culmen Length (mm)</th>\n",
       "      <th>Culmen Depth (mm)</th>\n",
       "      <th>Flipper Length (mm)</th>\n",
       "      <th>Body Mass (g)</th>\n",
       "      <th>Sex</th>\n",
       "      <th>Delta 15 N (o/oo)</th>\n",
       "      <th>Delta 13 C (o/oo)</th>\n",
       "      <th>Comments</th>\n",
       "    </tr>\n",
       "  </thead>\n",
       "  <tbody>\n",
       "    <tr>\n",
       "      <th>0</th>\n",
       "      <td>PAL0708</td>\n",
       "      <td>1</td>\n",
       "      <td>Adelie Penguin (Pygoscelis adeliae)</td>\n",
       "      <td>Anvers</td>\n",
       "      <td>Torgersen</td>\n",
       "      <td>Adult, 1 Egg Stage</td>\n",
       "      <td>N1A1</td>\n",
       "      <td>Yes</td>\n",
       "      <td>11/11/2007</td>\n",
       "      <td>39.1</td>\n",
       "      <td>18.7</td>\n",
       "      <td>181</td>\n",
       "      <td>.</td>\n",
       "      <td>MALE</td>\n",
       "      <td>NaN</td>\n",
       "      <td>NaN</td>\n",
       "      <td>Not enough blood for isotopes.</td>\n",
       "    </tr>\n",
       "    <tr>\n",
       "      <th>1</th>\n",
       "      <td>PAL0708</td>\n",
       "      <td>2</td>\n",
       "      <td>Adelie Penguin (Pygoscelis adeliae)</td>\n",
       "      <td>Anvers</td>\n",
       "      <td>Torgersen</td>\n",
       "      <td>Adult, 1 Egg Stage</td>\n",
       "      <td>N1A2</td>\n",
       "      <td>Yes</td>\n",
       "      <td>11/11/2007</td>\n",
       "      <td>39.5</td>\n",
       "      <td>17.4</td>\n",
       "      <td>186</td>\n",
       "      <td>3800</td>\n",
       "      <td>FEMALE</td>\n",
       "      <td>8.94956</td>\n",
       "      <td>-24.69454</td>\n",
       "      <td>NaN</td>\n",
       "    </tr>\n",
       "    <tr>\n",
       "      <th>2</th>\n",
       "      <td>PAL0708</td>\n",
       "      <td>3</td>\n",
       "      <td>Adelie Penguin (Pygoscelis adeliae)</td>\n",
       "      <td>Anvers</td>\n",
       "      <td>Torgersen</td>\n",
       "      <td>Adult, 1 Egg Stage</td>\n",
       "      <td>N2A1</td>\n",
       "      <td>Yes</td>\n",
       "      <td>11/16/2007</td>\n",
       "      <td>40.3</td>\n",
       "      <td>18.0</td>\n",
       "      <td>.</td>\n",
       "      <td>3250</td>\n",
       "      <td>FEMALE</td>\n",
       "      <td>8.36821</td>\n",
       "      <td>-25.33302</td>\n",
       "      <td>NaN</td>\n",
       "    </tr>\n",
       "    <tr>\n",
       "      <th>3</th>\n",
       "      <td>PAL0708</td>\n",
       "      <td>4</td>\n",
       "      <td>Adelie Penguin (Pygoscelis adeliae)</td>\n",
       "      <td>Anvers</td>\n",
       "      <td>Torgersen</td>\n",
       "      <td>Adult, 1 Egg Stage</td>\n",
       "      <td>N2A2</td>\n",
       "      <td>Yes</td>\n",
       "      <td>11/16/2007</td>\n",
       "      <td>NaN</td>\n",
       "      <td>NaN</td>\n",
       "      <td>NaN</td>\n",
       "      <td>NaN</td>\n",
       "      <td>NaN</td>\n",
       "      <td>NaN</td>\n",
       "      <td>NaN</td>\n",
       "      <td>Adult not sampled.</td>\n",
       "    </tr>\n",
       "    <tr>\n",
       "      <th>4</th>\n",
       "      <td>PAL0708</td>\n",
       "      <td>5</td>\n",
       "      <td>Adelie Penguin (Pygoscelis adeliae)</td>\n",
       "      <td>Anvers</td>\n",
       "      <td>Torgersen</td>\n",
       "      <td>Adult, 1 Egg Stage</td>\n",
       "      <td>N3A1</td>\n",
       "      <td>Yes</td>\n",
       "      <td>11/16/2007</td>\n",
       "      <td>36.7</td>\n",
       "      <td>19.3</td>\n",
       "      <td>193</td>\n",
       "      <td>3450</td>\n",
       "      <td>FEMALE</td>\n",
       "      <td>8.76651</td>\n",
       "      <td>-25.32426</td>\n",
       "      <td>NaN</td>\n",
       "    </tr>\n",
       "  </tbody>\n",
       "</table>\n",
       "</div>"
      ],
      "text/plain": [
       "  studyName  Sample Number                              Species  Region  \\\n",
       "0   PAL0708              1  Adelie Penguin (Pygoscelis adeliae)  Anvers   \n",
       "1   PAL0708              2  Adelie Penguin (Pygoscelis adeliae)  Anvers   \n",
       "2   PAL0708              3  Adelie Penguin (Pygoscelis adeliae)  Anvers   \n",
       "3   PAL0708              4  Adelie Penguin (Pygoscelis adeliae)  Anvers   \n",
       "4   PAL0708              5  Adelie Penguin (Pygoscelis adeliae)  Anvers   \n",
       "\n",
       "      Island               Stage Individual ID Clutch Completion    Date Egg  \\\n",
       "0  Torgersen  Adult, 1 Egg Stage          N1A1               Yes  11/11/2007   \n",
       "1  Torgersen  Adult, 1 Egg Stage          N1A2               Yes  11/11/2007   \n",
       "2  Torgersen  Adult, 1 Egg Stage          N2A1               Yes  11/16/2007   \n",
       "3  Torgersen  Adult, 1 Egg Stage          N2A2               Yes  11/16/2007   \n",
       "4  Torgersen  Adult, 1 Egg Stage          N3A1               Yes  11/16/2007   \n",
       "\n",
       "   Culmen Length (mm)  Culmen Depth (mm) Flipper Length (mm) Body Mass (g)  \\\n",
       "0                39.1               18.7                 181             .   \n",
       "1                39.5               17.4                 186          3800   \n",
       "2                40.3               18.0                   .          3250   \n",
       "3                 NaN                NaN                 NaN           NaN   \n",
       "4                36.7               19.3                 193          3450   \n",
       "\n",
       "      Sex  Delta 15 N (o/oo)  Delta 13 C (o/oo)  \\\n",
       "0    MALE                NaN                NaN   \n",
       "1  FEMALE            8.94956          -24.69454   \n",
       "2  FEMALE            8.36821          -25.33302   \n",
       "3     NaN                NaN                NaN   \n",
       "4  FEMALE            8.76651          -25.32426   \n",
       "\n",
       "                         Comments  \n",
       "0  Not enough blood for isotopes.  \n",
       "1                             NaN  \n",
       "2                             NaN  \n",
       "3              Adult not sampled.  \n",
       "4                             NaN  "
      ]
     },
     "execution_count": 29,
     "metadata": {},
     "output_type": "execute_result"
    }
   ],
   "source": [
    "df = pd.read_csv('penguins_lter.csv')\n",
    "df.head()"
   ]
  },
  {
   "cell_type": "code",
   "execution_count": 30,
   "id": "7d2864c9",
   "metadata": {},
   "outputs": [
    {
     "data": {
      "text/plain": [
       "(344, 17)"
      ]
     },
     "execution_count": 30,
     "metadata": {},
     "output_type": "execute_result"
    }
   ],
   "source": [
    "df.shape"
   ]
  },
  {
   "cell_type": "code",
   "execution_count": 31,
   "id": "3fcccd3f",
   "metadata": {},
   "outputs": [
    {
     "name": "stdout",
     "output_type": "stream",
     "text": [
      "<class 'pandas.core.frame.DataFrame'>\n",
      "RangeIndex: 344 entries, 0 to 343\n",
      "Data columns (total 17 columns):\n",
      " #   Column               Non-Null Count  Dtype  \n",
      "---  ------               --------------  -----  \n",
      " 0   studyName            344 non-null    object \n",
      " 1   Sample Number        344 non-null    int64  \n",
      " 2   Species              344 non-null    object \n",
      " 3   Region               344 non-null    object \n",
      " 4   Island               344 non-null    object \n",
      " 5   Stage                344 non-null    object \n",
      " 6   Individual ID        344 non-null    object \n",
      " 7   Clutch Completion    344 non-null    object \n",
      " 8   Date Egg             344 non-null    object \n",
      " 9   Culmen Length (mm)   342 non-null    float64\n",
      " 10  Culmen Depth (mm)    342 non-null    float64\n",
      " 11  Flipper Length (mm)  342 non-null    object \n",
      " 12  Body Mass (g)        342 non-null    object \n",
      " 13  Sex                  334 non-null    object \n",
      " 14  Delta 15 N (o/oo)    330 non-null    float64\n",
      " 15  Delta 13 C (o/oo)    331 non-null    float64\n",
      " 16  Comments             26 non-null     object \n",
      "dtypes: float64(4), int64(1), object(12)\n",
      "memory usage: 45.8+ KB\n"
     ]
    }
   ],
   "source": [
    "df.info()"
   ]
  },
  {
   "cell_type": "code",
   "execution_count": 33,
   "id": "1374249f",
   "metadata": {},
   "outputs": [
    {
     "data": {
      "text/html": [
       "<div>\n",
       "<style scoped>\n",
       "    .dataframe tbody tr th:only-of-type {\n",
       "        vertical-align: middle;\n",
       "    }\n",
       "\n",
       "    .dataframe tbody tr th {\n",
       "        vertical-align: top;\n",
       "    }\n",
       "\n",
       "    .dataframe thead th {\n",
       "        text-align: right;\n",
       "    }\n",
       "</style>\n",
       "<table border=\"1\" class=\"dataframe\">\n",
       "  <thead>\n",
       "    <tr style=\"text-align: right;\">\n",
       "      <th></th>\n",
       "      <th>studyName</th>\n",
       "      <th>Sample Number</th>\n",
       "      <th>Species</th>\n",
       "      <th>Region</th>\n",
       "      <th>Island</th>\n",
       "      <th>Stage</th>\n",
       "      <th>Individual ID</th>\n",
       "      <th>Clutch Completion</th>\n",
       "      <th>Date Egg</th>\n",
       "      <th>Culmen Length (mm)</th>\n",
       "      <th>Culmen Depth (mm)</th>\n",
       "      <th>Flipper Length (mm)</th>\n",
       "      <th>Body Mass (g)</th>\n",
       "      <th>Sex</th>\n",
       "      <th>Delta 15 N (o/oo)</th>\n",
       "      <th>Delta 13 C (o/oo)</th>\n",
       "      <th>Comments</th>\n",
       "    </tr>\n",
       "  </thead>\n",
       "  <tbody>\n",
       "    <tr>\n",
       "      <th>0</th>\n",
       "      <td>PAL0708</td>\n",
       "      <td>1</td>\n",
       "      <td>Adelie Penguin (Pygoscelis adeliae)</td>\n",
       "      <td>Anvers</td>\n",
       "      <td>Torgersen</td>\n",
       "      <td>Adult, 1 Egg Stage</td>\n",
       "      <td>N1A1</td>\n",
       "      <td>Yes</td>\n",
       "      <td>11/11/2007</td>\n",
       "      <td>39.1</td>\n",
       "      <td>18.7</td>\n",
       "      <td>181</td>\n",
       "      <td>.</td>\n",
       "      <td>MALE</td>\n",
       "      <td>NaN</td>\n",
       "      <td>NaN</td>\n",
       "      <td>Not enough blood for isotopes.</td>\n",
       "    </tr>\n",
       "    <tr>\n",
       "      <th>1</th>\n",
       "      <td>PAL0708</td>\n",
       "      <td>2</td>\n",
       "      <td>Adelie Penguin (Pygoscelis adeliae)</td>\n",
       "      <td>Anvers</td>\n",
       "      <td>Torgersen</td>\n",
       "      <td>Adult, 1 Egg Stage</td>\n",
       "      <td>N1A2</td>\n",
       "      <td>Yes</td>\n",
       "      <td>11/11/2007</td>\n",
       "      <td>39.5</td>\n",
       "      <td>17.4</td>\n",
       "      <td>186</td>\n",
       "      <td>3800</td>\n",
       "      <td>FEMALE</td>\n",
       "      <td>8.94956</td>\n",
       "      <td>-24.69454</td>\n",
       "      <td>NaN</td>\n",
       "    </tr>\n",
       "  </tbody>\n",
       "</table>\n",
       "</div>"
      ],
      "text/plain": [
       "  studyName  Sample Number                              Species  Region  \\\n",
       "0   PAL0708              1  Adelie Penguin (Pygoscelis adeliae)  Anvers   \n",
       "1   PAL0708              2  Adelie Penguin (Pygoscelis adeliae)  Anvers   \n",
       "\n",
       "      Island               Stage Individual ID Clutch Completion    Date Egg  \\\n",
       "0  Torgersen  Adult, 1 Egg Stage          N1A1               Yes  11/11/2007   \n",
       "1  Torgersen  Adult, 1 Egg Stage          N1A2               Yes  11/11/2007   \n",
       "\n",
       "   Culmen Length (mm)  Culmen Depth (mm) Flipper Length (mm) Body Mass (g)  \\\n",
       "0                39.1               18.7                 181             .   \n",
       "1                39.5               17.4                 186          3800   \n",
       "\n",
       "      Sex  Delta 15 N (o/oo)  Delta 13 C (o/oo)  \\\n",
       "0    MALE                NaN                NaN   \n",
       "1  FEMALE            8.94956          -24.69454   \n",
       "\n",
       "                         Comments  \n",
       "0  Not enough blood for isotopes.  \n",
       "1                             NaN  "
      ]
     },
     "execution_count": 33,
     "metadata": {},
     "output_type": "execute_result"
    }
   ],
   "source": [
    "df.head(2)"
   ]
  },
  {
   "cell_type": "code",
   "execution_count": 32,
   "id": "7647a3fe",
   "metadata": {},
   "outputs": [
    {
     "data": {
      "text/plain": [
       "Index(['studyName', 'Sample Number', 'Species', 'Region', 'Island', 'Stage',\n",
       "       'Individual ID', 'Clutch Completion', 'Date Egg', 'Culmen Length (mm)',\n",
       "       'Culmen Depth (mm)', 'Flipper Length (mm)', 'Body Mass (g)', 'Sex',\n",
       "       'Delta 15 N (o/oo)', 'Delta 13 C (o/oo)', 'Comments'],\n",
       "      dtype='object')"
      ]
     },
     "execution_count": 32,
     "metadata": {},
     "output_type": "execute_result"
    }
   ],
   "source": [
    "df.columns"
   ]
  },
  {
   "cell_type": "code",
   "execution_count": 34,
   "id": "7030ef9b",
   "metadata": {},
   "outputs": [],
   "source": [
    "df.drop(['studyName','Sample Number','Individual ID','Date Egg','Comments'], axis=1,inplace=True)"
   ]
  },
  {
   "cell_type": "code",
   "execution_count": 35,
   "id": "a246aaf9",
   "metadata": {},
   "outputs": [
    {
     "data": {
      "text/html": [
       "<div>\n",
       "<style scoped>\n",
       "    .dataframe tbody tr th:only-of-type {\n",
       "        vertical-align: middle;\n",
       "    }\n",
       "\n",
       "    .dataframe tbody tr th {\n",
       "        vertical-align: top;\n",
       "    }\n",
       "\n",
       "    .dataframe thead th {\n",
       "        text-align: right;\n",
       "    }\n",
       "</style>\n",
       "<table border=\"1\" class=\"dataframe\">\n",
       "  <thead>\n",
       "    <tr style=\"text-align: right;\">\n",
       "      <th></th>\n",
       "      <th>Species</th>\n",
       "      <th>Region</th>\n",
       "      <th>Island</th>\n",
       "      <th>Stage</th>\n",
       "      <th>Clutch Completion</th>\n",
       "      <th>Culmen Length (mm)</th>\n",
       "      <th>Culmen Depth (mm)</th>\n",
       "      <th>Flipper Length (mm)</th>\n",
       "      <th>Body Mass (g)</th>\n",
       "      <th>Sex</th>\n",
       "      <th>Delta 15 N (o/oo)</th>\n",
       "      <th>Delta 13 C (o/oo)</th>\n",
       "    </tr>\n",
       "  </thead>\n",
       "  <tbody>\n",
       "    <tr>\n",
       "      <th>0</th>\n",
       "      <td>Adelie Penguin (Pygoscelis adeliae)</td>\n",
       "      <td>Anvers</td>\n",
       "      <td>Torgersen</td>\n",
       "      <td>Adult, 1 Egg Stage</td>\n",
       "      <td>Yes</td>\n",
       "      <td>39.1</td>\n",
       "      <td>18.7</td>\n",
       "      <td>181</td>\n",
       "      <td>.</td>\n",
       "      <td>MALE</td>\n",
       "      <td>NaN</td>\n",
       "      <td>NaN</td>\n",
       "    </tr>\n",
       "    <tr>\n",
       "      <th>1</th>\n",
       "      <td>Adelie Penguin (Pygoscelis adeliae)</td>\n",
       "      <td>Anvers</td>\n",
       "      <td>Torgersen</td>\n",
       "      <td>Adult, 1 Egg Stage</td>\n",
       "      <td>Yes</td>\n",
       "      <td>39.5</td>\n",
       "      <td>17.4</td>\n",
       "      <td>186</td>\n",
       "      <td>3800</td>\n",
       "      <td>FEMALE</td>\n",
       "      <td>8.94956</td>\n",
       "      <td>-24.69454</td>\n",
       "    </tr>\n",
       "    <tr>\n",
       "      <th>2</th>\n",
       "      <td>Adelie Penguin (Pygoscelis adeliae)</td>\n",
       "      <td>Anvers</td>\n",
       "      <td>Torgersen</td>\n",
       "      <td>Adult, 1 Egg Stage</td>\n",
       "      <td>Yes</td>\n",
       "      <td>40.3</td>\n",
       "      <td>18.0</td>\n",
       "      <td>.</td>\n",
       "      <td>3250</td>\n",
       "      <td>FEMALE</td>\n",
       "      <td>8.36821</td>\n",
       "      <td>-25.33302</td>\n",
       "    </tr>\n",
       "    <tr>\n",
       "      <th>3</th>\n",
       "      <td>Adelie Penguin (Pygoscelis adeliae)</td>\n",
       "      <td>Anvers</td>\n",
       "      <td>Torgersen</td>\n",
       "      <td>Adult, 1 Egg Stage</td>\n",
       "      <td>Yes</td>\n",
       "      <td>NaN</td>\n",
       "      <td>NaN</td>\n",
       "      <td>NaN</td>\n",
       "      <td>NaN</td>\n",
       "      <td>NaN</td>\n",
       "      <td>NaN</td>\n",
       "      <td>NaN</td>\n",
       "    </tr>\n",
       "    <tr>\n",
       "      <th>4</th>\n",
       "      <td>Adelie Penguin (Pygoscelis adeliae)</td>\n",
       "      <td>Anvers</td>\n",
       "      <td>Torgersen</td>\n",
       "      <td>Adult, 1 Egg Stage</td>\n",
       "      <td>Yes</td>\n",
       "      <td>36.7</td>\n",
       "      <td>19.3</td>\n",
       "      <td>193</td>\n",
       "      <td>3450</td>\n",
       "      <td>FEMALE</td>\n",
       "      <td>8.76651</td>\n",
       "      <td>-25.32426</td>\n",
       "    </tr>\n",
       "  </tbody>\n",
       "</table>\n",
       "</div>"
      ],
      "text/plain": [
       "                               Species  Region     Island               Stage  \\\n",
       "0  Adelie Penguin (Pygoscelis adeliae)  Anvers  Torgersen  Adult, 1 Egg Stage   \n",
       "1  Adelie Penguin (Pygoscelis adeliae)  Anvers  Torgersen  Adult, 1 Egg Stage   \n",
       "2  Adelie Penguin (Pygoscelis adeliae)  Anvers  Torgersen  Adult, 1 Egg Stage   \n",
       "3  Adelie Penguin (Pygoscelis adeliae)  Anvers  Torgersen  Adult, 1 Egg Stage   \n",
       "4  Adelie Penguin (Pygoscelis adeliae)  Anvers  Torgersen  Adult, 1 Egg Stage   \n",
       "\n",
       "  Clutch Completion  Culmen Length (mm)  Culmen Depth (mm)  \\\n",
       "0               Yes                39.1               18.7   \n",
       "1               Yes                39.5               17.4   \n",
       "2               Yes                40.3               18.0   \n",
       "3               Yes                 NaN                NaN   \n",
       "4               Yes                36.7               19.3   \n",
       "\n",
       "  Flipper Length (mm) Body Mass (g)     Sex  Delta 15 N (o/oo)  \\\n",
       "0                 181             .    MALE                NaN   \n",
       "1                 186          3800  FEMALE            8.94956   \n",
       "2                   .          3250  FEMALE            8.36821   \n",
       "3                 NaN           NaN     NaN                NaN   \n",
       "4                 193          3450  FEMALE            8.76651   \n",
       "\n",
       "   Delta 13 C (o/oo)  \n",
       "0                NaN  \n",
       "1          -24.69454  \n",
       "2          -25.33302  \n",
       "3                NaN  \n",
       "4          -25.32426  "
      ]
     },
     "execution_count": 35,
     "metadata": {},
     "output_type": "execute_result"
    }
   ],
   "source": [
    "df.head()"
   ]
  },
  {
   "cell_type": "code",
   "execution_count": 36,
   "id": "ff2a8600",
   "metadata": {},
   "outputs": [
    {
     "data": {
      "text/plain": [
       "(344, 12)"
      ]
     },
     "execution_count": 36,
     "metadata": {},
     "output_type": "execute_result"
    }
   ],
   "source": [
    "df.shape"
   ]
  },
  {
   "cell_type": "code",
   "execution_count": 37,
   "id": "751f7d07",
   "metadata": {},
   "outputs": [
    {
     "data": {
      "text/plain": [
       "Species                 0\n",
       "Region                  0\n",
       "Island                  0\n",
       "Stage                   0\n",
       "Clutch Completion       0\n",
       "Culmen Length (mm)      2\n",
       "Culmen Depth (mm)       2\n",
       "Flipper Length (mm)     2\n",
       "Body Mass (g)           2\n",
       "Sex                    10\n",
       "Delta 15 N (o/oo)      14\n",
       "Delta 13 C (o/oo)      13\n",
       "dtype: int64"
      ]
     },
     "execution_count": 37,
     "metadata": {},
     "output_type": "execute_result"
    }
   ],
   "source": [
    "# Data Preprocessing\n",
    "df.isnull().sum()"
   ]
  },
  {
   "cell_type": "code",
   "execution_count": 39,
   "id": "c4aacfe6",
   "metadata": {},
   "outputs": [
    {
     "data": {
      "text/plain": [
       "Species                0.000000\n",
       "Region                 0.000000\n",
       "Island                 0.000000\n",
       "Stage                  0.000000\n",
       "Clutch Completion      0.000000\n",
       "Culmen Length (mm)     0.581395\n",
       "Culmen Depth (mm)      0.581395\n",
       "Flipper Length (mm)    0.581395\n",
       "Body Mass (g)          0.581395\n",
       "Sex                    2.906977\n",
       "Delta 15 N (o/oo)      4.069767\n",
       "Delta 13 C (o/oo)      3.779070\n",
       "dtype: float64"
      ]
     },
     "execution_count": 39,
     "metadata": {},
     "output_type": "execute_result"
    }
   ],
   "source": [
    "df.isnull().sum()/len(df)*100"
   ]
  },
  {
   "cell_type": "code",
   "execution_count": 40,
   "id": "fbf7396f",
   "metadata": {},
   "outputs": [
    {
     "name": "stdout",
     "output_type": "stream",
     "text": [
      "<class 'pandas.core.frame.DataFrame'>\n",
      "RangeIndex: 344 entries, 0 to 343\n",
      "Data columns (total 12 columns):\n",
      " #   Column               Non-Null Count  Dtype  \n",
      "---  ------               --------------  -----  \n",
      " 0   Species              344 non-null    object \n",
      " 1   Region               344 non-null    object \n",
      " 2   Island               344 non-null    object \n",
      " 3   Stage                344 non-null    object \n",
      " 4   Clutch Completion    344 non-null    object \n",
      " 5   Culmen Length (mm)   342 non-null    float64\n",
      " 6   Culmen Depth (mm)    342 non-null    float64\n",
      " 7   Flipper Length (mm)  342 non-null    object \n",
      " 8   Body Mass (g)        342 non-null    object \n",
      " 9   Sex                  334 non-null    object \n",
      " 10  Delta 15 N (o/oo)    330 non-null    float64\n",
      " 11  Delta 13 C (o/oo)    331 non-null    float64\n",
      "dtypes: float64(4), object(8)\n",
      "memory usage: 32.4+ KB\n"
     ]
    }
   ],
   "source": [
    "df.info()"
   ]
  },
  {
   "cell_type": "code",
   "execution_count": 67,
   "id": "64b1dcf7",
   "metadata": {},
   "outputs": [
    {
     "data": {
      "text/plain": [
       "Adelie Penguin (Pygoscelis adeliae)          152\n",
       "Gentoo penguin (Pygoscelis papua)            124\n",
       "Chinstrap penguin (Pygoscelis antarctica)     68\n",
       "Name: Species, dtype: int64"
      ]
     },
     "execution_count": 67,
     "metadata": {},
     "output_type": "execute_result"
    }
   ],
   "source": [
    "df['Species'].value_counts()"
   ]
  },
  {
   "cell_type": "code",
   "execution_count": 41,
   "id": "7fa7c217",
   "metadata": {},
   "outputs": [
    {
     "name": "stdout",
     "output_type": "stream",
     "text": [
      "********************************************* Species ******************************************************\n",
      "\n",
      "{'Chinstrap penguin (Pygoscelis antarctica)', 'Adelie Penguin (Pygoscelis adeliae)', 'Gentoo penguin (Pygoscelis papua)'}\n",
      "\n",
      "********************************************* Region ******************************************************\n",
      "\n",
      "{'Anvers'}\n",
      "\n",
      "********************************************* Island ******************************************************\n",
      "\n",
      "{'Torgersen', 'Dream', 'Biscoe'}\n",
      "\n",
      "********************************************* Stage ******************************************************\n",
      "\n",
      "{'Adult, 1 Egg Stage'}\n",
      "\n",
      "********************************************* Clutch Completion ******************************************************\n",
      "\n",
      "{'No', 'Yes'}\n",
      "\n",
      "********************************************* Culmen Length (mm) ******************************************************\n",
      "\n",
      "{nan, nan, 49.4, 49.9, 37.3, 45.7, 50.4, 32.1, 33.1, 33.5, 35.6, 36.2, 35.7, 38.1, 35.2, 40.2, 41.5, 34.1, 34.6, 36.7, 37.8, 38.9, 39.5, 40.3, 42.0, 41.1, 42.5, 46.0, 44.1, 45.8, 46.5, 50.0, 51.3, 52.7, 51.7, 52.0, 58.0, 54.2, 55.8, 59.6, 47.7, 47.2, 48.2, 45.0, 50.2, 43.8, 34.4, 34.5, 34.0, 35.9, 35.3, 35.0, 35.1, 35.5, 36.6, 36.4, 36.5, 36.0, 36.9, 37.7, 37.9, 37.2, 37.6, 37.0, 38.6, 38.7, 38.2, 38.8, 37.5, 39.1, 39.3, 39.2, 39.8, 39.6, 39.0, 39.7, 40.6, 40.5, 40.9, 40.8, 40.1, 41.4, 41.3, 41.6, 41.8, 41.0, 42.2, 42.3, 42.8, 42.1, 42.9, 43.2, 42.7, 43.1, 43.5, 43.3, 44.5, 44.4, 44.0, 45.6, 45.4, 45.2, 45.9, 45.5, 46.1, 46.6, 46.4, 46.7, 46.9, 47.0, 47.5, 47.6, 46.2, 46.8, 48.5, 48.1, 48.7, 48.4, 47.8, 49.2, 49.5, 49.7, 49.0, 49.8, 50.5, 50.3, 50.6, 50.9, 50.8, 51.0, 50.1, 51.5, 51.4, 50.7, 52.8, 52.2, 51.9, 47.3, 51.1, 53.5, 52.5, 52.1, 43.6, 53.4, 54.3, 55.9, 55.1, 48.8, 42.6, 49.3, 45.1, 45.3, 42.4, 43.4, 44.9, 48.6, 40.7, 49.6, 49.1, 41.7, 38.5, 46.3, 47.4, 38.3, 36.3, 36.8}\n",
      "\n",
      "********************************************* Culmen Depth (mm) ******************************************************\n",
      "\n",
      "{nan, nan, 13.2, 14.1, 15.9, 16.7, 17.4, 18.4, 19.0, 20.7, 21.5, 18.7, 18.0, 19.3, 20.6, 17.8, 19.6, 20.2, 21.2, 21.1, 13.5, 14.5, 14.0, 15.5, 15.0, 16.0, 16.4, 16.9, 16.6, 16.1, 17.5, 17.1, 17.6, 17.9, 17.0, 18.1, 18.9, 18.6, 18.5, 19.1, 19.5, 19.4, 19.9, 20.0, 20.5, 20.1, 13.4, 13.9, 14.4, 14.9, 15.4, 13.3, 13.8, 13.7, 14.3, 14.8, 14.2, 14.7, 15.2, 15.3, 15.7, 15.8, 16.2, 16.8, 16.3, 17.7, 17.3, 17.2, 18.3, 18.8, 18.2, 19.8, 19.2, 19.7, 20.3, 20.8, 16.5, 13.6, 13.1, 14.6, 15.1, 15.6}\n",
      "\n",
      "********************************************* Flipper Length (mm) ******************************************************\n",
      "\n",
      "{nan, '203', '179', '188', '176', '215', '195', '231', '228', '225', '182', '194', '174', '206', '222', '189', '229', '210', '226', '216', '172', '197', '207', '221', '202', '184', '230', '214', '187', '212', '183', '208', '213', '198', '223', '186', '211', '209', '193', '201', '217', '219', '192', '199', '218', '200', '178', '220', '224', '.', '196', '205', '190', '191', '185', '180', '181'}\n",
      "\n",
      "********************************************* Body Mass (g) ******************************************************\n",
      "\n",
      "{nan, '3575', '3750', '3450', '5400', '4875', '3900', '5850', '2925', '5950', '3650', '3725', '3775', '3525', '5150', '3825', '4700', '4200', '3250', '3050', '2900', '3275', '5200', '4575', '4950', '3600', '4475', '4350', '3350', '5500', '3000', '5000', '5050', '4000', '4500', '4775', '3200', '3475', '3175', '4075', '5550', '4625', '5100', '3950', '5700', '3850', '3300', '6000', '.', '3400', '3675', '5300', '4925', '4725', '6050', '3075', '3700', '5800', '3100', '4400', '3150', '5350', '5250', '4250', '4050', '2700', '4300', '3425', '4450', '4850', '3550', '4275', '5650', '4975', '3875', '4800', '3800', '4900', '2975', '3500', '5750', '6300', '3325', '4600', '4100', '3975', '4150', '4375', '4750', '5600', '3625', '5450', '4675', '2850', '4650', '4550'}\n",
      "\n",
      "********************************************* Sex ******************************************************\n",
      "\n",
      "{nan, 'MALE', '.', 'FEMALE'}\n",
      "\n",
      "********************************************* Delta 15 N (o/oo) ******************************************************\n",
      "\n",
      "{nan, nan, nan, nan, nan, nan, nan, nan, 8.90027, 8.94956, 8.36821, 8.76651, 8.66496, 9.18718, 9.4606, 9.13362, 8.63243, 8.55583, 9.18528, 10.02019, nan, nan, nan, nan, nan, 7.88494, nan, 8.94332, 8.8964, 8.35396, 8.57199, 8.01979, 9.27158, 9.07826, 8.79665, 8.9846, 9.46929, 9.62357, 9.65061, 8.70642, 8.2066, 8.15426, 8.29671, 8.30515, 8.14756, 8.38404, 8.33524, 8.32718, 9.42666, 9.49283, 9.22537, 9.45827, 9.29808, 8.39299, 7.90436, 8.65914, 8.30231, 7.99184, 8.75984, 8.65015, 8.51951, 8.08138, 8.74802, 9.25769, 9.22286, 9.21292, 8.87988, 9.14863, 10.02372, 9.11066, 9.07825, 8.63551, 8.27141, 8.96472, 8.96436, 8.24651, 8.65803, 8.63259, 8.58063, 8.27376, 8.01485, 8.2345, 8.23468, 8.86495, 8.83352, 8.27102, 7.76843, 7.69778, 7.993, 8.24694, 8.24515, 8.88098, 8.64701, 8.58487, 8.14567, 8.9399, 9.07878, 8.37615, 8.27595, 8.29226, 8.12311, 8.41017, 8.74647, 8.93997, 7.8962, 8.97025, 8.62623, 8.86853, 8.73762, 8.18658, 9.25177, 9.46819, 8.40327, 8.60447, 9.02657, 9.04296, 9.415, 8.45738, 7.79958, 8.59147, 8.30166, 7.8208, 7.96935, 8.81668, 8.68747, 8.47257, 8.49854, 8.47938, 9.56534, 9.00642, 9.32277, 9.59462, 9.05674, 9.36799, 9.06829, 8.04111, 7.90971, 8.28601, 7.96621, 7.89744, 8.48367, 8.03659, 8.5964, 8.04787, 8.79787, 8.79581, 9.22033, 8.67538, 9.15308, 9.05736, 9.43684, 9.32169, 8.36701, 8.62264, 8.25818, 8.45167, 8.36936, 8.85664, 8.41151, 7.63884, 8.13643, 8.19579, 8.24253, 8.19749, 8.52566, 8.47829, 9.98044, 9.43146, 9.08458, 9.36493, 9.39305, 9.43782, 9.18021, 8.58319, 8.3639, 8.85699, 8.39459, 8.94365, 7.92358, 7.97408, 8.56192, 8.77322, 8.08354, 7.84057, 7.9953, 8.43423, 8.57087, 8.97533, 8.83502, 8.1631, 9.41131, 9.01079, 9.23196, 9.32105, 8.35078, 9.2881, 9.59245, 9.26715, 9.70465, 8.15566, 8.16582, 8.20106, 8.33825, 8.48204, 8.717, 8.90002, 8.43951, 8.47067, 9.93727, 9.68933, 9.51929, 9.29078, 9.03935, 9.61734, 8.4207, 8.12691, 8.24246, 7.77672, 7.6322, 7.6887, 8.38289, 8.90723, 8.98705, 8.35802, 8.41837, 8.80967, 8.10417, 9.19031, 9.37369, 9.49645, 9.63954, 9.69756, 9.4618, 9.74144, 8.93465, 8.19101, 8.95063, 8.39867, 8.56708, 8.26548, 7.83733, 7.63452, 7.82381, 7.8881, 8.30817, 8.2554, 8.6287, 8.68744, 8.20042, 8.55868, 9.53262, 9.6895, 9.46985, 8.63604, 8.47827, 9.72764, 9.66523, 8.84451, 9.8059, 9.77528, 8.3118, 8.71078, 8.10231, 8.46531, 8.77018, 8.32359, 8.48095, 8.14705, 8.47173, 8.65466, 8.92069, 9.35416, 9.74492, 9.11616, 9.18985, 9.51784, 9.36392, 9.2151, 9.75486, 8.2993, 8.24691, 8.51362, 7.88863, 7.68528, 8.27428, 8.47781, 8.61651, 8.14776, 8.80186, 9.10702, 9.88809, 9.80589, 9.50772, 9.49106, 9.31735, 9.0233, 9.35138, 8.64931, 9.14382, 8.78557, 8.46616, 8.21634, 8.10277, 7.96491, 8.46894, 8.3554, 8.63701, 8.13746, 8.19539, 9.11006, 9.28153, 9.79532, 9.12277, 8.22673, 9.17847, 9.108, 10.02544, 9.63074, 8.66271, 8.91434, 8.60092, 8.03624, 8.72037, 8.50153, 8.88942, 8.53018, 8.11238, 9.37608, 9.34089, 9.30722, 8.07137, 8.95998, 9.36668, 9.2372, 9.04218, 9.02642, 8.63488, 8.49662, 8.38324, 9.23408, 8.48789, 8.85562, 8.49915, 8.56674}\n",
      "\n",
      "********************************************* Delta 13 C (o/oo) ******************************************************\n",
      "\n",
      "{nan, nan, nan, nan, nan, nan, nan, nan, nan, nan, nan, nan, nan, -26.06594, -25.03469, -26.33867, -26.18466, -26.18444, -26.20372, -26.79093, -26.57585, -26.2253, -26.39677, -25.95399, -25.62618, -25.89677, -25.8306, -25.33302, -24.65859, -25.69199, -24.45721, -25.39587, -26.83006, -24.80526, -26.75621, -24.69638, -24.43062, -24.16566, -25.38157, -26.57563, -25.32829, -25.27385, -25.54456, -26.7489, -26.05621, -25.48025, -25.79203, -26.08165, -25.77951, -26.65931, -26.07021, -26.06967, -26.22664, -26.08547, -26.68867, -25.22664, -26.86127, -26.20538, -26.03679, -26.78733, -26.3433, -25.29805, -26.01363, -26.32909, -26.59467, -26.65359, -26.22227, -25.5139, -25.09368, -26.79846, -25.73722, -26.7699, -24.805, -24.29229, -24.60882, -24.36088, -24.59467, -24.31198, -24.40753, -24.62717, -24.70615, -24.10255, -26.11657, -25.85203, -26.41218, -25.77264, -25.95541, -24.84059, -26.23886, -25.80208, -26.18599, -25.88547, -25.11223, -26.05756, -26.35425, -26.15531, -26.11244, -25.21799, -26.03495, -26.06209, -26.63085, -26.38085, -26.06943, -25.81513, -25.3933, -25.4276, -25.81012, -25.29856, -24.90816, -24.52896, -24.59513, -25.49448, -25.19837, -24.59996, -24.6844, -24.55644, -24.54704, -24.45195, -26.21019, -26.84374, -26.13971, -26.27853, -26.70968, -25.32176, -26.42406, -26.57941, -25.54976, -24.4228, -26.44787, -25.14591, -26.1165, -26.38396, -25.97696, -26.19444, -25.52473, -26.84506, -25.01185, -26.01549, -26.84272, -26.5929, -26.84415, -26.37809, -26.30037, -25.57956, -26.30019, -25.37899, -25.37746, -25.6821, -24.26375, -24.59066, -24.6879, -24.34684, -24.25255, -24.89958, -26.24369, -25.06691, -26.63405, -26.13832, -25.0602, -25.46172, -25.39369, -26.09635, -25.36288, -24.53494, -26.2766, -25.79529, -26.17213, -26.60436, -24.66867, -24.48153, -25.89741, -26.06203, -26.72791, -25.89834, -26.18161, -26.22848, -26.61601, -26.55602, -26.46254, -26.0245, -26.79053, -25.22588, -25.50811, -26.55351, -26.23027, -26.01152, -24.69454, -24.7557, -24.49433, -24.41562, -25.04169, -24.48403, -24.64162, -24.54903, -26.60023, -26.18763, -25.40075, -26.07081, -26.69166, -25.23453, -25.46782, -25.46327, -25.42621, -26.89644, -26.11046, -25.11609, -26.15775, -26.12417, -26.11199, -26.86352, -26.67799, -25.39181, -26.61414, -25.83352, -25.38017, -25.50562, -24.23592, -24.57994, -24.56481, -24.73735, -25.42826, -24.66259, -24.77227, -26.51382, -23.90309, -23.78767, -25.49523, -25.86482, -26.24837, -25.48383, -25.76147, -26.02002, -25.88156, -26.86485, -25.46569, -26.04726, -26.72751, -25.21315, -26.28055, -25.13993, -25.45171, -25.0102, -25.03474, -25.03492, -24.52698, -25.23061, -26.60484, -26.21569, -26.32601, -26.66958, -26.54718, -25.79189, -25.4168, -26.45978, -25.18543, -25.01745, -24.404, -25.61039, -25.00169, -24.64335, -24.97134, -24.47142, -24.66188, -24.31912, -24.86594, -24.78984, -26.07821, -25.53768, -25.69195, -25.09383, -26.16524, -26.3146, -26.40943, -26.84166, -26.74809, -25.23319, -26.61075, -26.44815, -25.12255, -26.38092, -25.96013, -26.9547, -26.27573, -26.42018, -26.07188, -25.52627, -26.04117, -26.21651, -26.74249, -25.19017, -26.69543, -26.50086, -26.11969, -25.32426, -25.69327, -26.38986, -25.0639, -26.78958, -26.68311, -26.7765, -26.1396, -26.09294, -25.1455, -25.60826, -25.57647, -25.88798, -25.79549, -24.7294, -24.35575, -24.65786, -24.38933, -25.07683, -24.30229, -24.17282, -24.68741, -24.36202, -24.3613, -26.15003, -26.49288, -26.61788, -26.71199, -26.79358, -24.59897, -26.23613, -25.98843, -24.38751, -26.12989, -27.01854, -26.5387, -26.36678, -26.42563, -25.70711, -26.03442, -25.3947, -26.8154, -26.76821, -24.45189, -26.09989, -24.90024, -24.61867, -23.89017, -26.48973, -26.36863, -26.70783}\n",
      "\n"
     ]
    }
   ],
   "source": [
    "# Finding the unique values in the given dataset\n",
    "for i in df.columns:\n",
    "    print(\"*********************************************\", i ,\n",
    "         \"******************************************************\")\n",
    "    print()\n",
    "    print(set(df[i].tolist()))\n",
    "    print()"
   ]
  },
  {
   "cell_type": "code",
   "execution_count": 42,
   "id": "21ecb089",
   "metadata": {},
   "outputs": [
    {
     "data": {
      "text/plain": [
       "0    190\n",
       "Name: Flipper Length (mm), dtype: object"
      ]
     },
     "execution_count": 42,
     "metadata": {},
     "output_type": "execute_result"
    }
   ],
   "source": [
    "df['Flipper Length (mm)'].mode()"
   ]
  },
  {
   "cell_type": "code",
   "execution_count": 43,
   "id": "31013261",
   "metadata": {},
   "outputs": [],
   "source": [
    "df['Flipper Length (mm)'] = np.where(df['Flipper Length (mm)']=='.','190', \n",
    "                                     df['Flipper Length (mm)'])"
   ]
  },
  {
   "cell_type": "code",
   "execution_count": 44,
   "id": "da70746c",
   "metadata": {},
   "outputs": [
    {
     "data": {
      "text/plain": [
       "0    3800\n",
       "Name: Body Mass (g), dtype: object"
      ]
     },
     "execution_count": 44,
     "metadata": {},
     "output_type": "execute_result"
    }
   ],
   "source": [
    "df['Body Mass (g)'].mode()"
   ]
  },
  {
   "cell_type": "code",
   "execution_count": 45,
   "id": "abae6567",
   "metadata": {},
   "outputs": [],
   "source": [
    "df['Body Mass (g)'] = np.where(df['Body Mass (g)']=='.','3800',\n",
    "                              df['Body Mass (g)'])"
   ]
  },
  {
   "cell_type": "code",
   "execution_count": 46,
   "id": "567dbbb6",
   "metadata": {},
   "outputs": [
    {
     "data": {
      "text/plain": [
       "0    MALE\n",
       "Name: Sex, dtype: object"
      ]
     },
     "execution_count": 46,
     "metadata": {},
     "output_type": "execute_result"
    }
   ],
   "source": [
    "df['Sex'].mode()"
   ]
  },
  {
   "cell_type": "code",
   "execution_count": 47,
   "id": "a4a52eb5",
   "metadata": {},
   "outputs": [],
   "source": [
    "df['Sex'] = np.where(df['Sex']=='.','MALE', df['Sex'])"
   ]
  },
  {
   "cell_type": "code",
   "execution_count": 51,
   "id": "8a45381a",
   "metadata": {},
   "outputs": [
    {
     "name": "stdout",
     "output_type": "stream",
     "text": [
      "********************************************* Species ******************************************************\n",
      "\n",
      "{'Chinstrap penguin (Pygoscelis antarctica)', 'Adelie Penguin (Pygoscelis adeliae)', 'Gentoo penguin (Pygoscelis papua)'}\n",
      "\n",
      "********************************************* Region ******************************************************\n",
      "\n",
      "{'Anvers'}\n",
      "\n",
      "********************************************* Island ******************************************************\n",
      "\n",
      "{'Torgersen', 'Dream', 'Biscoe'}\n",
      "\n",
      "********************************************* Stage ******************************************************\n",
      "\n",
      "{'Adult, 1 Egg Stage'}\n",
      "\n",
      "********************************************* Clutch Completion ******************************************************\n",
      "\n",
      "{'No', 'Yes'}\n",
      "\n",
      "********************************************* Culmen Length (mm) ******************************************************\n",
      "\n",
      "{nan, nan, 49.4, 49.9, 37.3, 45.7, 50.4, 32.1, 33.1, 33.5, 35.6, 36.2, 35.7, 38.1, 35.2, 40.2, 41.5, 34.1, 34.6, 36.7, 37.8, 38.9, 39.5, 40.3, 42.0, 41.1, 42.5, 46.0, 44.1, 45.8, 46.5, 50.0, 51.3, 52.7, 51.7, 52.0, 58.0, 54.2, 55.8, 59.6, 47.7, 47.2, 48.2, 45.0, 50.2, 43.8, 34.4, 34.5, 34.0, 35.9, 35.3, 35.0, 35.1, 35.5, 36.6, 36.4, 36.5, 36.0, 36.9, 37.7, 37.9, 37.2, 37.6, 37.0, 38.6, 38.7, 38.2, 38.8, 37.5, 39.1, 39.3, 39.2, 39.8, 39.6, 39.0, 39.7, 40.6, 40.5, 40.9, 40.8, 40.1, 41.4, 41.3, 41.6, 41.8, 41.0, 42.2, 42.3, 42.8, 42.1, 42.9, 43.2, 42.7, 43.1, 43.5, 43.3, 44.5, 44.4, 44.0, 45.6, 45.4, 45.2, 45.9, 45.5, 46.1, 46.6, 46.4, 46.7, 46.9, 47.0, 47.5, 47.6, 46.2, 46.8, 48.5, 48.1, 48.7, 48.4, 47.8, 49.2, 49.5, 49.7, 49.0, 49.8, 50.5, 50.3, 50.6, 50.9, 50.8, 51.0, 50.1, 51.5, 51.4, 50.7, 52.8, 52.2, 51.9, 47.3, 51.1, 53.5, 52.5, 52.1, 43.6, 53.4, 54.3, 55.9, 55.1, 48.8, 42.6, 49.3, 45.1, 45.3, 42.4, 43.4, 44.9, 48.6, 40.7, 49.6, 49.1, 41.7, 38.5, 46.3, 47.4, 38.3, 36.3, 36.8}\n",
      "\n",
      "********************************************* Culmen Depth (mm) ******************************************************\n",
      "\n",
      "{nan, nan, 13.2, 14.1, 15.9, 16.7, 17.4, 18.4, 19.0, 20.7, 21.5, 18.7, 18.0, 19.3, 20.6, 17.8, 19.6, 20.2, 21.2, 21.1, 13.5, 14.5, 14.0, 15.5, 15.0, 16.0, 16.4, 16.9, 16.6, 16.1, 17.5, 17.1, 17.6, 17.9, 17.0, 18.1, 18.9, 18.6, 18.5, 19.1, 19.5, 19.4, 19.9, 20.0, 20.5, 20.1, 13.4, 13.9, 14.4, 14.9, 15.4, 13.3, 13.8, 13.7, 14.3, 14.8, 14.2, 14.7, 15.2, 15.3, 15.7, 15.8, 16.2, 16.8, 16.3, 17.7, 17.3, 17.2, 18.3, 18.8, 18.2, 19.8, 19.2, 19.7, 20.3, 20.8, 16.5, 13.6, 13.1, 14.6, 15.1, 15.6}\n",
      "\n",
      "********************************************* Flipper Length (mm) ******************************************************\n",
      "\n",
      "{nan, nan, 172.0, 174.0, 176.0, 178.0, 179.0, 180.0, 181.0, 182.0, 183.0, 184.0, 185.0, 186.0, 187.0, 188.0, 189.0, 190.0, 191.0, 192.0, 193.0, 194.0, 195.0, 196.0, 197.0, 198.0, 199.0, 200.0, 201.0, 202.0, 203.0, 205.0, 206.0, 207.0, 208.0, 209.0, 210.0, 211.0, 212.0, 213.0, 214.0, 215.0, 216.0, 217.0, 218.0, 219.0, 220.0, 221.0, 222.0, 223.0, 224.0, 225.0, 226.0, 228.0, 229.0, 230.0, 231.0}\n",
      "\n",
      "********************************************* Body Mass (g) ******************************************************\n",
      "\n",
      "{nan, nan, 3075.0, 4100.0, 3600.0, 4625.0, 5650.0, 3100.0, 5150.0, 3625.0, 4650.0, 4150.0, 3650.0, 4675.0, 5700.0, 3150.0, 5200.0, 3675.0, 4700.0, 3175.0, 4200.0, 3700.0, 4725.0, 5750.0, 3200.0, 5250.0, 2700.0, 3725.0, 4750.0, 4250.0, 6300.0, 3750.0, 4775.0, 5800.0, 3250.0, 4275.0, 5300.0, 3775.0, 4800.0, 3275.0, 4300.0, 3800.0, 5850.0, 3300.0, 5350.0, 3825.0, 4850.0, 3325.0, 4350.0, 3850.0, 4875.0, 3350.0, 4375.0, 5400.0, 2850.0, 3875.0, 4900.0, 4400.0, 3900.0, 4925.0, 5950.0, 3400.0, 5450.0, 2900.0, 4950.0, 3425.0, 4450.0, 2925.0, 3950.0, 4975.0, 6000.0, 3450.0, 4475.0, 5500.0, 3975.0, 5000.0, 3475.0, 4500.0, 2975.0, 4000.0, 6050.0, 3500.0, 5550.0, 3000.0, 5050.0, 3525.0, 4550.0, 4050.0, 3550.0, 4575.0, 5600.0, 3050.0, 4075.0, 5100.0, 3575.0, 4600.0}\n",
      "\n",
      "********************************************* Sex ******************************************************\n",
      "\n",
      "{nan, 'MALE', 'FEMALE'}\n",
      "\n",
      "********************************************* Delta 15 N (o/oo) ******************************************************\n",
      "\n",
      "{nan, nan, nan, nan, nan, nan, nan, nan, 8.90027, 8.94956, 8.36821, 8.76651, 8.66496, 9.18718, 9.4606, 9.13362, 8.63243, 8.55583, 9.18528, 10.02019, nan, nan, nan, nan, nan, 7.88494, nan, 8.94332, 8.8964, 8.35396, 8.57199, 8.01979, 9.27158, 9.07826, 8.79665, 8.9846, 9.46929, 9.62357, 9.65061, 8.70642, 8.2066, 8.15426, 8.29671, 8.30515, 8.14756, 8.38404, 8.33524, 8.32718, 9.42666, 9.49283, 9.22537, 9.45827, 9.29808, 8.39299, 7.90436, 8.65914, 8.30231, 7.99184, 8.75984, 8.65015, 8.51951, 8.08138, 8.74802, 9.25769, 9.22286, 9.21292, 8.87988, 9.14863, 10.02372, 9.11066, 9.07825, 8.63551, 8.27141, 8.96472, 8.96436, 8.24651, 8.65803, 8.63259, 8.58063, 8.27376, 8.01485, 8.2345, 8.23468, 8.86495, 8.83352, 8.27102, 7.76843, 7.69778, 7.993, 8.24694, 8.24515, 8.88098, 8.64701, 8.58487, 8.14567, 8.9399, 9.07878, 8.37615, 8.27595, 8.29226, 8.12311, 8.41017, 8.74647, 8.93997, 7.8962, 8.97025, 8.62623, 8.86853, 8.73762, 8.18658, 9.25177, 9.46819, 8.40327, 8.60447, 9.02657, 9.04296, 9.415, 8.45738, 7.79958, 8.59147, 8.30166, 7.8208, 7.96935, 8.81668, 8.68747, 8.47257, 8.49854, 8.47938, 9.56534, 9.00642, 9.32277, 9.59462, 9.05674, 9.36799, 9.06829, 8.04111, 7.90971, 8.28601, 7.96621, 7.89744, 8.48367, 8.03659, 8.5964, 8.04787, 8.79787, 8.79581, 9.22033, 8.67538, 9.15308, 9.05736, 9.43684, 9.32169, 8.36701, 8.62264, 8.25818, 8.45167, 8.36936, 8.85664, 8.41151, 7.63884, 8.13643, 8.19579, 8.24253, 8.19749, 8.52566, 8.47829, 9.98044, 9.43146, 9.08458, 9.36493, 9.39305, 9.43782, 9.18021, 8.58319, 8.3639, 8.85699, 8.39459, 8.94365, 7.92358, 7.97408, 8.56192, 8.77322, 8.08354, 7.84057, 7.9953, 8.43423, 8.57087, 8.97533, 8.83502, 8.1631, 9.41131, 9.01079, 9.23196, 9.32105, 8.35078, 9.2881, 9.59245, 9.26715, 9.70465, 8.15566, 8.16582, 8.20106, 8.33825, 8.48204, 8.717, 8.90002, 8.43951, 8.47067, 9.93727, 9.68933, 9.51929, 9.29078, 9.03935, 9.61734, 8.4207, 8.12691, 8.24246, 7.77672, 7.6322, 7.6887, 8.38289, 8.90723, 8.98705, 8.35802, 8.41837, 8.80967, 8.10417, 9.19031, 9.37369, 9.49645, 9.63954, 9.69756, 9.4618, 9.74144, 8.93465, 8.19101, 8.95063, 8.39867, 8.56708, 8.26548, 7.83733, 7.63452, 7.82381, 7.8881, 8.30817, 8.2554, 8.6287, 8.68744, 8.20042, 8.55868, 9.53262, 9.6895, 9.46985, 8.63604, 8.47827, 9.72764, 9.66523, 8.84451, 9.8059, 9.77528, 8.3118, 8.71078, 8.10231, 8.46531, 8.77018, 8.32359, 8.48095, 8.14705, 8.47173, 8.65466, 8.92069, 9.35416, 9.74492, 9.11616, 9.18985, 9.51784, 9.36392, 9.2151, 9.75486, 8.2993, 8.24691, 8.51362, 7.88863, 7.68528, 8.27428, 8.47781, 8.61651, 8.14776, 8.80186, 9.10702, 9.88809, 9.80589, 9.50772, 9.49106, 9.31735, 9.0233, 9.35138, 8.64931, 9.14382, 8.78557, 8.46616, 8.21634, 8.10277, 7.96491, 8.46894, 8.3554, 8.63701, 8.13746, 8.19539, 9.11006, 9.28153, 9.79532, 9.12277, 8.22673, 9.17847, 9.108, 10.02544, 9.63074, 8.66271, 8.91434, 8.60092, 8.03624, 8.72037, 8.50153, 8.88942, 8.53018, 8.11238, 9.37608, 9.34089, 9.30722, 8.07137, 8.95998, 9.36668, 9.2372, 9.04218, 9.02642, 8.63488, 8.49662, 8.38324, 9.23408, 8.48789, 8.85562, 8.49915, 8.56674}\n",
      "\n",
      "********************************************* Delta 13 C (o/oo) ******************************************************\n",
      "\n",
      "{nan, nan, nan, nan, nan, nan, nan, nan, nan, nan, nan, nan, nan, -26.06594, -25.03469, -26.33867, -26.18466, -26.18444, -26.20372, -26.79093, -26.57585, -26.2253, -26.39677, -25.95399, -25.62618, -25.89677, -25.8306, -25.33302, -24.65859, -25.69199, -24.45721, -25.39587, -26.83006, -24.80526, -26.75621, -24.69638, -24.43062, -24.16566, -25.38157, -26.57563, -25.32829, -25.27385, -25.54456, -26.7489, -26.05621, -25.48025, -25.79203, -26.08165, -25.77951, -26.65931, -26.07021, -26.06967, -26.22664, -26.08547, -26.68867, -25.22664, -26.86127, -26.20538, -26.03679, -26.78733, -26.3433, -25.29805, -26.01363, -26.32909, -26.59467, -26.65359, -26.22227, -25.5139, -25.09368, -26.79846, -25.73722, -26.7699, -24.805, -24.29229, -24.60882, -24.36088, -24.59467, -24.31198, -24.40753, -24.62717, -24.70615, -24.10255, -26.11657, -25.85203, -26.41218, -25.77264, -25.95541, -24.84059, -26.23886, -25.80208, -26.18599, -25.88547, -25.11223, -26.05756, -26.35425, -26.15531, -26.11244, -25.21799, -26.03495, -26.06209, -26.63085, -26.38085, -26.06943, -25.81513, -25.3933, -25.4276, -25.81012, -25.29856, -24.90816, -24.52896, -24.59513, -25.49448, -25.19837, -24.59996, -24.6844, -24.55644, -24.54704, -24.45195, -26.21019, -26.84374, -26.13971, -26.27853, -26.70968, -25.32176, -26.42406, -26.57941, -25.54976, -24.4228, -26.44787, -25.14591, -26.1165, -26.38396, -25.97696, -26.19444, -25.52473, -26.84506, -25.01185, -26.01549, -26.84272, -26.5929, -26.84415, -26.37809, -26.30037, -25.57956, -26.30019, -25.37899, -25.37746, -25.6821, -24.26375, -24.59066, -24.6879, -24.34684, -24.25255, -24.89958, -26.24369, -25.06691, -26.63405, -26.13832, -25.0602, -25.46172, -25.39369, -26.09635, -25.36288, -24.53494, -26.2766, -25.79529, -26.17213, -26.60436, -24.66867, -24.48153, -25.89741, -26.06203, -26.72791, -25.89834, -26.18161, -26.22848, -26.61601, -26.55602, -26.46254, -26.0245, -26.79053, -25.22588, -25.50811, -26.55351, -26.23027, -26.01152, -24.69454, -24.7557, -24.49433, -24.41562, -25.04169, -24.48403, -24.64162, -24.54903, -26.60023, -26.18763, -25.40075, -26.07081, -26.69166, -25.23453, -25.46782, -25.46327, -25.42621, -26.89644, -26.11046, -25.11609, -26.15775, -26.12417, -26.11199, -26.86352, -26.67799, -25.39181, -26.61414, -25.83352, -25.38017, -25.50562, -24.23592, -24.57994, -24.56481, -24.73735, -25.42826, -24.66259, -24.77227, -26.51382, -23.90309, -23.78767, -25.49523, -25.86482, -26.24837, -25.48383, -25.76147, -26.02002, -25.88156, -26.86485, -25.46569, -26.04726, -26.72751, -25.21315, -26.28055, -25.13993, -25.45171, -25.0102, -25.03474, -25.03492, -24.52698, -25.23061, -26.60484, -26.21569, -26.32601, -26.66958, -26.54718, -25.79189, -25.4168, -26.45978, -25.18543, -25.01745, -24.404, -25.61039, -25.00169, -24.64335, -24.97134, -24.47142, -24.66188, -24.31912, -24.86594, -24.78984, -26.07821, -25.53768, -25.69195, -25.09383, -26.16524, -26.3146, -26.40943, -26.84166, -26.74809, -25.23319, -26.61075, -26.44815, -25.12255, -26.38092, -25.96013, -26.9547, -26.27573, -26.42018, -26.07188, -25.52627, -26.04117, -26.21651, -26.74249, -25.19017, -26.69543, -26.50086, -26.11969, -25.32426, -25.69327, -26.38986, -25.0639, -26.78958, -26.68311, -26.7765, -26.1396, -26.09294, -25.1455, -25.60826, -25.57647, -25.88798, -25.79549, -24.7294, -24.35575, -24.65786, -24.38933, -25.07683, -24.30229, -24.17282, -24.68741, -24.36202, -24.3613, -26.15003, -26.49288, -26.61788, -26.71199, -26.79358, -24.59897, -26.23613, -25.98843, -24.38751, -26.12989, -27.01854, -26.5387, -26.36678, -26.42563, -25.70711, -26.03442, -25.3947, -26.8154, -26.76821, -24.45189, -26.09989, -24.90024, -24.61867, -23.89017, -26.48973, -26.36863, -26.70783}\n",
      "\n"
     ]
    }
   ],
   "source": [
    "# Finding the unique values in the given dataset\n",
    "for i in df.columns:\n",
    "    print(\"*********************************************\", i ,\n",
    "         \"******************************************************\")\n",
    "    print()\n",
    "    print(set(df[i].tolist()))\n",
    "    print()"
   ]
  },
  {
   "cell_type": "code",
   "execution_count": 49,
   "id": "0da22b04",
   "metadata": {},
   "outputs": [],
   "source": [
    "df['Flipper Length (mm)'] = pd.to_numeric(df['Flipper Length (mm)'])"
   ]
  },
  {
   "cell_type": "code",
   "execution_count": 50,
   "id": "34b0d8ae",
   "metadata": {},
   "outputs": [],
   "source": [
    "df['Body Mass (g)'] = pd.to_numeric(df['Body Mass (g)'])"
   ]
  },
  {
   "cell_type": "code",
   "execution_count": 52,
   "id": "767a0fd3",
   "metadata": {},
   "outputs": [
    {
     "data": {
      "text/plain": [
       "Species                 0\n",
       "Region                  0\n",
       "Island                  0\n",
       "Stage                   0\n",
       "Clutch Completion       0\n",
       "Culmen Length (mm)      2\n",
       "Culmen Depth (mm)       2\n",
       "Flipper Length (mm)     2\n",
       "Body Mass (g)           2\n",
       "Sex                    10\n",
       "Delta 15 N (o/oo)      14\n",
       "Delta 13 C (o/oo)      13\n",
       "dtype: int64"
      ]
     },
     "execution_count": 52,
     "metadata": {},
     "output_type": "execute_result"
    }
   ],
   "source": [
    "df.isnull().sum()"
   ]
  },
  {
   "cell_type": "code",
   "execution_count": 53,
   "id": "ecada2d9",
   "metadata": {},
   "outputs": [
    {
     "name": "stdout",
     "output_type": "stream",
     "text": [
      "<class 'pandas.core.frame.DataFrame'>\n",
      "RangeIndex: 344 entries, 0 to 343\n",
      "Data columns (total 12 columns):\n",
      " #   Column               Non-Null Count  Dtype  \n",
      "---  ------               --------------  -----  \n",
      " 0   Species              344 non-null    object \n",
      " 1   Region               344 non-null    object \n",
      " 2   Island               344 non-null    object \n",
      " 3   Stage                344 non-null    object \n",
      " 4   Clutch Completion    344 non-null    object \n",
      " 5   Culmen Length (mm)   342 non-null    float64\n",
      " 6   Culmen Depth (mm)    342 non-null    float64\n",
      " 7   Flipper Length (mm)  342 non-null    float64\n",
      " 8   Body Mass (g)        342 non-null    float64\n",
      " 9   Sex                  334 non-null    object \n",
      " 10  Delta 15 N (o/oo)    330 non-null    float64\n",
      " 11  Delta 13 C (o/oo)    331 non-null    float64\n",
      "dtypes: float64(6), object(6)\n",
      "memory usage: 32.4+ KB\n"
     ]
    }
   ],
   "source": [
    "df.info()"
   ]
  },
  {
   "cell_type": "code",
   "execution_count": 54,
   "id": "8a77a0fb",
   "metadata": {},
   "outputs": [
    {
     "data": {
      "text/plain": [
       "Index(['Species', 'Region', 'Island', 'Stage', 'Clutch Completion',\n",
       "       'Culmen Length (mm)', 'Culmen Depth (mm)', 'Flipper Length (mm)',\n",
       "       'Body Mass (g)', 'Sex', 'Delta 15 N (o/oo)', 'Delta 13 C (o/oo)'],\n",
       "      dtype='object')"
      ]
     },
     "execution_count": 54,
     "metadata": {},
     "output_type": "execute_result"
    }
   ],
   "source": [
    "df.columns"
   ]
  },
  {
   "cell_type": "code",
   "execution_count": null,
   "id": "69457509",
   "metadata": {},
   "outputs": [],
   "source": [
    "#'Culmen Length (mm)','Culmen Depth (mm)', 'Flipper Length (mm)','Body Mass (g)'\n",
    "# 'Delta 15 N (o/oo)', 'Delta 13 C (o/oo)' - numerical columns\n",
    "       \n",
    "#'Sex' - char"
   ]
  },
  {
   "cell_type": "code",
   "execution_count": 55,
   "id": "ba218491",
   "metadata": {},
   "outputs": [
    {
     "data": {
      "text/plain": [
       "MALE      169\n",
       "FEMALE    165\n",
       "Name: Sex, dtype: int64"
      ]
     },
     "execution_count": 55,
     "metadata": {},
     "output_type": "execute_result"
    }
   ],
   "source": [
    "df['Sex'].value_counts()"
   ]
  },
  {
   "cell_type": "code",
   "execution_count": 56,
   "id": "d54d9ed2",
   "metadata": {},
   "outputs": [],
   "source": [
    "df['Sex'] = df['Sex'].fillna('MALE')"
   ]
  },
  {
   "cell_type": "code",
   "execution_count": 58,
   "id": "957b3e6a",
   "metadata": {},
   "outputs": [
    {
     "data": {
      "text/html": [
       "<div>\n",
       "<style scoped>\n",
       "    .dataframe tbody tr th:only-of-type {\n",
       "        vertical-align: middle;\n",
       "    }\n",
       "\n",
       "    .dataframe tbody tr th {\n",
       "        vertical-align: top;\n",
       "    }\n",
       "\n",
       "    .dataframe thead th {\n",
       "        text-align: right;\n",
       "    }\n",
       "</style>\n",
       "<table border=\"1\" class=\"dataframe\">\n",
       "  <thead>\n",
       "    <tr style=\"text-align: right;\">\n",
       "      <th></th>\n",
       "      <th>Species</th>\n",
       "      <th>Region</th>\n",
       "      <th>Island</th>\n",
       "      <th>Stage</th>\n",
       "      <th>Clutch Completion</th>\n",
       "      <th>Culmen Length (mm)</th>\n",
       "      <th>Culmen Depth (mm)</th>\n",
       "      <th>Flipper Length (mm)</th>\n",
       "      <th>Body Mass (g)</th>\n",
       "      <th>Sex</th>\n",
       "      <th>Delta 15 N (o/oo)</th>\n",
       "      <th>Delta 13 C (o/oo)</th>\n",
       "    </tr>\n",
       "  </thead>\n",
       "  <tbody>\n",
       "    <tr>\n",
       "      <th>0</th>\n",
       "      <td>Adelie Penguin (Pygoscelis adeliae)</td>\n",
       "      <td>Anvers</td>\n",
       "      <td>Torgersen</td>\n",
       "      <td>Adult, 1 Egg Stage</td>\n",
       "      <td>Yes</td>\n",
       "      <td>39.1</td>\n",
       "      <td>18.7</td>\n",
       "      <td>181.0</td>\n",
       "      <td>3800.0</td>\n",
       "      <td>MALE</td>\n",
       "      <td>NaN</td>\n",
       "      <td>NaN</td>\n",
       "    </tr>\n",
       "  </tbody>\n",
       "</table>\n",
       "</div>"
      ],
      "text/plain": [
       "                               Species  Region     Island               Stage  \\\n",
       "0  Adelie Penguin (Pygoscelis adeliae)  Anvers  Torgersen  Adult, 1 Egg Stage   \n",
       "\n",
       "  Clutch Completion  Culmen Length (mm)  Culmen Depth (mm)  \\\n",
       "0               Yes                39.1               18.7   \n",
       "\n",
       "   Flipper Length (mm)  Body Mass (g)   Sex  Delta 15 N (o/oo)  \\\n",
       "0                181.0         3800.0  MALE                NaN   \n",
       "\n",
       "   Delta 13 C (o/oo)  \n",
       "0                NaN  "
      ]
     },
     "execution_count": 58,
     "metadata": {},
     "output_type": "execute_result"
    }
   ],
   "source": [
    "df.head(1)"
   ]
  },
  {
   "cell_type": "code",
   "execution_count": 59,
   "id": "de252c5f",
   "metadata": {},
   "outputs": [],
   "source": [
    "# splitting the data into independent and dependent variable\n",
    "x = df.iloc[:,1:]\n",
    "y = df[['Species']]\n",
    "#x1 = df.drop(['Species'], axis=1)\n",
    "#y1 = df[['Species']]"
   ]
  },
  {
   "cell_type": "code",
   "execution_count": 60,
   "id": "e0c9f9fd",
   "metadata": {},
   "outputs": [
    {
     "data": {
      "text/html": [
       "<div>\n",
       "<style scoped>\n",
       "    .dataframe tbody tr th:only-of-type {\n",
       "        vertical-align: middle;\n",
       "    }\n",
       "\n",
       "    .dataframe tbody tr th {\n",
       "        vertical-align: top;\n",
       "    }\n",
       "\n",
       "    .dataframe thead th {\n",
       "        text-align: right;\n",
       "    }\n",
       "</style>\n",
       "<table border=\"1\" class=\"dataframe\">\n",
       "  <thead>\n",
       "    <tr style=\"text-align: right;\">\n",
       "      <th></th>\n",
       "      <th>Region</th>\n",
       "      <th>Island</th>\n",
       "      <th>Stage</th>\n",
       "      <th>Clutch Completion</th>\n",
       "      <th>Culmen Length (mm)</th>\n",
       "      <th>Culmen Depth (mm)</th>\n",
       "      <th>Flipper Length (mm)</th>\n",
       "      <th>Body Mass (g)</th>\n",
       "      <th>Sex</th>\n",
       "      <th>Delta 15 N (o/oo)</th>\n",
       "      <th>Delta 13 C (o/oo)</th>\n",
       "    </tr>\n",
       "  </thead>\n",
       "  <tbody>\n",
       "    <tr>\n",
       "      <th>0</th>\n",
       "      <td>Anvers</td>\n",
       "      <td>Torgersen</td>\n",
       "      <td>Adult, 1 Egg Stage</td>\n",
       "      <td>Yes</td>\n",
       "      <td>39.1</td>\n",
       "      <td>18.7</td>\n",
       "      <td>181.0</td>\n",
       "      <td>3800.0</td>\n",
       "      <td>MALE</td>\n",
       "      <td>NaN</td>\n",
       "      <td>NaN</td>\n",
       "    </tr>\n",
       "  </tbody>\n",
       "</table>\n",
       "</div>"
      ],
      "text/plain": [
       "   Region     Island               Stage Clutch Completion  \\\n",
       "0  Anvers  Torgersen  Adult, 1 Egg Stage               Yes   \n",
       "\n",
       "   Culmen Length (mm)  Culmen Depth (mm)  Flipper Length (mm)  Body Mass (g)  \\\n",
       "0                39.1               18.7                181.0         3800.0   \n",
       "\n",
       "    Sex  Delta 15 N (o/oo)  Delta 13 C (o/oo)  \n",
       "0  MALE                NaN                NaN  "
      ]
     },
     "execution_count": 60,
     "metadata": {},
     "output_type": "execute_result"
    }
   ],
   "source": [
    "x.head(1)"
   ]
  },
  {
   "cell_type": "code",
   "execution_count": 62,
   "id": "9ec76377",
   "metadata": {},
   "outputs": [
    {
     "data": {
      "text/html": [
       "<div>\n",
       "<style scoped>\n",
       "    .dataframe tbody tr th:only-of-type {\n",
       "        vertical-align: middle;\n",
       "    }\n",
       "\n",
       "    .dataframe tbody tr th {\n",
       "        vertical-align: top;\n",
       "    }\n",
       "\n",
       "    .dataframe thead th {\n",
       "        text-align: right;\n",
       "    }\n",
       "</style>\n",
       "<table border=\"1\" class=\"dataframe\">\n",
       "  <thead>\n",
       "    <tr style=\"text-align: right;\">\n",
       "      <th></th>\n",
       "      <th>Species</th>\n",
       "    </tr>\n",
       "  </thead>\n",
       "  <tbody>\n",
       "    <tr>\n",
       "      <th>0</th>\n",
       "      <td>Adelie Penguin (Pygoscelis adeliae)</td>\n",
       "    </tr>\n",
       "  </tbody>\n",
       "</table>\n",
       "</div>"
      ],
      "text/plain": [
       "                               Species\n",
       "0  Adelie Penguin (Pygoscelis adeliae)"
      ]
     },
     "execution_count": 62,
     "metadata": {},
     "output_type": "execute_result"
    }
   ],
   "source": [
    "y.head(1)"
   ]
  },
  {
   "cell_type": "code",
   "execution_count": 66,
   "id": "a7125b4a",
   "metadata": {},
   "outputs": [
    {
     "ename": "InvalidIndexError",
     "evalue": "(slice(None, None, None), slice(4, None, None))",
     "output_type": "error",
     "traceback": [
      "\u001b[1;31m---------------------------------------------------------------------------\u001b[0m",
      "\u001b[1;31mTypeError\u001b[0m                                 Traceback (most recent call last)",
      "\u001b[1;32m~\\anaconda3\\lib\\site-packages\\pandas\\core\\indexes\\base.py\u001b[0m in \u001b[0;36mget_loc\u001b[1;34m(self, key, method, tolerance)\u001b[0m\n\u001b[0;32m   3628\u001b[0m             \u001b[1;32mtry\u001b[0m\u001b[1;33m:\u001b[0m\u001b[1;33m\u001b[0m\u001b[1;33m\u001b[0m\u001b[0m\n\u001b[1;32m-> 3629\u001b[1;33m                 \u001b[1;32mreturn\u001b[0m \u001b[0mself\u001b[0m\u001b[1;33m.\u001b[0m\u001b[0m_engine\u001b[0m\u001b[1;33m.\u001b[0m\u001b[0mget_loc\u001b[0m\u001b[1;33m(\u001b[0m\u001b[0mcasted_key\u001b[0m\u001b[1;33m)\u001b[0m\u001b[1;33m\u001b[0m\u001b[1;33m\u001b[0m\u001b[0m\n\u001b[0m\u001b[0;32m   3630\u001b[0m             \u001b[1;32mexcept\u001b[0m \u001b[0mKeyError\u001b[0m \u001b[1;32mas\u001b[0m \u001b[0merr\u001b[0m\u001b[1;33m:\u001b[0m\u001b[1;33m\u001b[0m\u001b[1;33m\u001b[0m\u001b[0m\n",
      "\u001b[1;32m~\\anaconda3\\lib\\site-packages\\pandas\\_libs\\index.pyx\u001b[0m in \u001b[0;36mpandas._libs.index.IndexEngine.get_loc\u001b[1;34m()\u001b[0m\n",
      "\u001b[1;32m~\\anaconda3\\lib\\site-packages\\pandas\\_libs\\index.pyx\u001b[0m in \u001b[0;36mpandas._libs.index.IndexEngine.get_loc\u001b[1;34m()\u001b[0m\n",
      "\u001b[1;31mTypeError\u001b[0m: '(slice(None, None, None), slice(4, None, None))' is an invalid key",
      "\nDuring handling of the above exception, another exception occurred:\n",
      "\u001b[1;31mInvalidIndexError\u001b[0m                         Traceback (most recent call last)",
      "\u001b[1;32m~\\AppData\\Local\\Temp\\ipykernel_4592\\49664725.py\u001b[0m in \u001b[0;36m<module>\u001b[1;34m\u001b[0m\n\u001b[0;32m      1\u001b[0m \u001b[1;32mfrom\u001b[0m \u001b[0msklearn\u001b[0m\u001b[1;33m.\u001b[0m\u001b[0mimpute\u001b[0m \u001b[1;32mimport\u001b[0m \u001b[0mSimpleImputer\u001b[0m\u001b[1;33m\u001b[0m\u001b[1;33m\u001b[0m\u001b[0m\n\u001b[0;32m      2\u001b[0m \u001b[0mimpute\u001b[0m \u001b[1;33m=\u001b[0m \u001b[0mSimpleImputer\u001b[0m\u001b[1;33m(\u001b[0m\u001b[0mmissing_values\u001b[0m\u001b[1;33m=\u001b[0m\u001b[0mnp\u001b[0m\u001b[1;33m.\u001b[0m\u001b[0mnan\u001b[0m\u001b[1;33m,\u001b[0m \u001b[0mstrategy\u001b[0m\u001b[1;33m=\u001b[0m\u001b[1;34m'median'\u001b[0m\u001b[1;33m)\u001b[0m\u001b[1;33m\u001b[0m\u001b[1;33m\u001b[0m\u001b[0m\n\u001b[1;32m----> 3\u001b[1;33m \u001b[0mx\u001b[0m\u001b[1;33m[\u001b[0m\u001b[1;33m:\u001b[0m\u001b[1;33m,\u001b[0m\u001b[1;36m4\u001b[0m\u001b[1;33m:\u001b[0m\u001b[1;33m]\u001b[0m \u001b[1;33m=\u001b[0m \u001b[0mimpute\u001b[0m\u001b[1;33m.\u001b[0m\u001b[0mfit_transform\u001b[0m\u001b[1;33m(\u001b[0m\u001b[0mx\u001b[0m\u001b[1;33m[\u001b[0m\u001b[1;33m:\u001b[0m\u001b[1;33m,\u001b[0m\u001b[1;36m4\u001b[0m\u001b[1;33m:\u001b[0m\u001b[1;33m]\u001b[0m\u001b[1;33m)\u001b[0m\u001b[1;33m\u001b[0m\u001b[1;33m\u001b[0m\u001b[0m\n\u001b[0m",
      "\u001b[1;32m~\\anaconda3\\lib\\site-packages\\pandas\\core\\frame.py\u001b[0m in \u001b[0;36m__getitem__\u001b[1;34m(self, key)\u001b[0m\n\u001b[0;32m   3503\u001b[0m             \u001b[1;32mif\u001b[0m \u001b[0mself\u001b[0m\u001b[1;33m.\u001b[0m\u001b[0mcolumns\u001b[0m\u001b[1;33m.\u001b[0m\u001b[0mnlevels\u001b[0m \u001b[1;33m>\u001b[0m \u001b[1;36m1\u001b[0m\u001b[1;33m:\u001b[0m\u001b[1;33m\u001b[0m\u001b[1;33m\u001b[0m\u001b[0m\n\u001b[0;32m   3504\u001b[0m                 \u001b[1;32mreturn\u001b[0m \u001b[0mself\u001b[0m\u001b[1;33m.\u001b[0m\u001b[0m_getitem_multilevel\u001b[0m\u001b[1;33m(\u001b[0m\u001b[0mkey\u001b[0m\u001b[1;33m)\u001b[0m\u001b[1;33m\u001b[0m\u001b[1;33m\u001b[0m\u001b[0m\n\u001b[1;32m-> 3505\u001b[1;33m             \u001b[0mindexer\u001b[0m \u001b[1;33m=\u001b[0m \u001b[0mself\u001b[0m\u001b[1;33m.\u001b[0m\u001b[0mcolumns\u001b[0m\u001b[1;33m.\u001b[0m\u001b[0mget_loc\u001b[0m\u001b[1;33m(\u001b[0m\u001b[0mkey\u001b[0m\u001b[1;33m)\u001b[0m\u001b[1;33m\u001b[0m\u001b[1;33m\u001b[0m\u001b[0m\n\u001b[0m\u001b[0;32m   3506\u001b[0m             \u001b[1;32mif\u001b[0m \u001b[0mis_integer\u001b[0m\u001b[1;33m(\u001b[0m\u001b[0mindexer\u001b[0m\u001b[1;33m)\u001b[0m\u001b[1;33m:\u001b[0m\u001b[1;33m\u001b[0m\u001b[1;33m\u001b[0m\u001b[0m\n\u001b[0;32m   3507\u001b[0m                 \u001b[0mindexer\u001b[0m \u001b[1;33m=\u001b[0m \u001b[1;33m[\u001b[0m\u001b[0mindexer\u001b[0m\u001b[1;33m]\u001b[0m\u001b[1;33m\u001b[0m\u001b[1;33m\u001b[0m\u001b[0m\n",
      "\u001b[1;32m~\\anaconda3\\lib\\site-packages\\pandas\\core\\indexes\\base.py\u001b[0m in \u001b[0;36mget_loc\u001b[1;34m(self, key, method, tolerance)\u001b[0m\n\u001b[0;32m   3634\u001b[0m                 \u001b[1;31m#  InvalidIndexError. Otherwise we fall through and re-raise\u001b[0m\u001b[1;33m\u001b[0m\u001b[1;33m\u001b[0m\u001b[0m\n\u001b[0;32m   3635\u001b[0m                 \u001b[1;31m#  the TypeError.\u001b[0m\u001b[1;33m\u001b[0m\u001b[1;33m\u001b[0m\u001b[0m\n\u001b[1;32m-> 3636\u001b[1;33m                 \u001b[0mself\u001b[0m\u001b[1;33m.\u001b[0m\u001b[0m_check_indexing_error\u001b[0m\u001b[1;33m(\u001b[0m\u001b[0mkey\u001b[0m\u001b[1;33m)\u001b[0m\u001b[1;33m\u001b[0m\u001b[1;33m\u001b[0m\u001b[0m\n\u001b[0m\u001b[0;32m   3637\u001b[0m                 \u001b[1;32mraise\u001b[0m\u001b[1;33m\u001b[0m\u001b[1;33m\u001b[0m\u001b[0m\n\u001b[0;32m   3638\u001b[0m \u001b[1;33m\u001b[0m\u001b[0m\n",
      "\u001b[1;32m~\\anaconda3\\lib\\site-packages\\pandas\\core\\indexes\\base.py\u001b[0m in \u001b[0;36m_check_indexing_error\u001b[1;34m(self, key)\u001b[0m\n\u001b[0;32m   5649\u001b[0m             \u001b[1;31m# if key is not a scalar, directly raise an error (the code below\u001b[0m\u001b[1;33m\u001b[0m\u001b[1;33m\u001b[0m\u001b[0m\n\u001b[0;32m   5650\u001b[0m             \u001b[1;31m# would convert to numpy arrays and raise later any way) - GH29926\u001b[0m\u001b[1;33m\u001b[0m\u001b[1;33m\u001b[0m\u001b[0m\n\u001b[1;32m-> 5651\u001b[1;33m             \u001b[1;32mraise\u001b[0m \u001b[0mInvalidIndexError\u001b[0m\u001b[1;33m(\u001b[0m\u001b[0mkey\u001b[0m\u001b[1;33m)\u001b[0m\u001b[1;33m\u001b[0m\u001b[1;33m\u001b[0m\u001b[0m\n\u001b[0m\u001b[0;32m   5652\u001b[0m \u001b[1;33m\u001b[0m\u001b[0m\n\u001b[0;32m   5653\u001b[0m     \u001b[1;33m@\u001b[0m\u001b[0mcache_readonly\u001b[0m\u001b[1;33m\u001b[0m\u001b[1;33m\u001b[0m\u001b[0m\n",
      "\u001b[1;31mInvalidIndexError\u001b[0m: (slice(None, None, None), slice(4, None, None))"
     ]
    }
   ],
   "source": [
    "from sklearn.impute import SimpleImputer\n",
    "impute = SimpleImputer(missing_values=np.nan, strategy='median')\n",
    "x[:,4:] = impute.fit_transform(x[:,4:])"
   ]
  },
  {
   "cell_type": "code",
   "execution_count": null,
   "id": "da84ed60",
   "metadata": {},
   "outputs": [],
   "source": []
  },
  {
   "cell_type": "code",
   "execution_count": null,
   "id": "b146f27a",
   "metadata": {},
   "outputs": [],
   "source": []
  },
  {
   "cell_type": "code",
   "execution_count": null,
   "id": "27fbb3b4",
   "metadata": {},
   "outputs": [],
   "source": []
  },
  {
   "cell_type": "code",
   "execution_count": null,
   "id": "093e4cd7",
   "metadata": {},
   "outputs": [],
   "source": []
  },
  {
   "cell_type": "code",
   "execution_count": null,
   "id": "8b03460b",
   "metadata": {},
   "outputs": [],
   "source": []
  }
 ],
 "metadata": {
  "kernelspec": {
   "display_name": "Python 3 (ipykernel)",
   "language": "python",
   "name": "python3"
  },
  "language_info": {
   "codemirror_mode": {
    "name": "ipython",
    "version": 3
   },
   "file_extension": ".py",
   "mimetype": "text/x-python",
   "name": "python",
   "nbconvert_exporter": "python",
   "pygments_lexer": "ipython3",
   "version": "3.9.13"
  }
 },
 "nbformat": 4,
 "nbformat_minor": 5
}
